{
 "cells": [
  {
   "cell_type": "markdown",
   "id": "ceaa1af6",
   "metadata": {},
   "source": [
    "# XYZ G2M  Exploratory Data Analysis\n",
    "-----\n",
    "\n",
    "### Name: Nicolette Peterkin\n",
    "### Title: XYZ Data Scientist\n",
    "### Date: June 14, 2021\n",
    "-----\n",
    "\n",
    "## Introduction \n",
    "\n",
    "The cab industry in the United States has grown significantly, and as a result, XYZ firm is interested in investing in the cab sector. They handed over four datasets to the senior Data Scientist to analyse and give actionable insights. The goal of this project is to clean, append, join, and analyse the datasets provided in order to provide sufficient advice to XYZ's Executive team on the most lucrative cab company. \n",
    "\n",
    "If you so choose to explore further into the dataset, please click  [here](https://github.com/DataGlacier/DataSets.git). \n"
   ]
  },
  {
   "cell_type": "markdown",
   "id": "e7161190",
   "metadata": {},
   "source": [
    "## Business Problem\n",
    "\n",
    "Buying into a new industry requires a lot of research and data analysing to ensure that the right Go-to-Market(G2M) strategy is used to enter the market. The issue XYZ is having currently is that they do not understand the cab industry market in which they are thinking to invest. \n",
    "\n",
    "## Solution \n",
    "\n",
    "As a Data Scientist my job is to analyse the given data with much scrutiny in order to provide XYZ with vital insights into the cab industry. Once the exploratory data analyse report is completed XYZ will have actionable insights which can then be used to inform their G2M strategy. \n",
    "\n",
    "## Hypothesis to Test\n",
    "\n",
    "1. Which company has maximum cab users at a particular time period?\n",
    "2. Does margin proportionally increase with increase in number of customers?\n",
    "3. What are the attributes of these customer segments?\n",
    "4. What age range of customer use cabs the most?\n",
    "5. Is there a correlation between price charged and cost of trip?"
   ]
  },
  {
   "cell_type": "markdown",
   "id": "749624c3",
   "metadata": {},
   "source": [
    "### Loading the necessary libraries "
   ]
  },
  {
   "cell_type": "code",
   "execution_count": 1,
   "id": "b8b975a2",
   "metadata": {},
   "outputs": [],
   "source": [
    "# Here I am importing all the libraries that will be needed.\n",
    "\n",
    "import matplotlib.pyplot as plt \n",
    "import numpy as np \n",
    "import pandas as pd \n",
    "import seaborn as sns"
   ]
  },
  {
   "cell_type": "markdown",
   "id": "fbddbf2d",
   "metadata": {},
   "source": [
    "### Importing the Datasets"
   ]
  },
  {
   "cell_type": "code",
   "execution_count": 2,
   "id": "32e29a32",
   "metadata": {},
   "outputs": [],
   "source": [
    "# Here I am reading in the necessary data files and assigning them to variable names.\n",
    "\n",
    "cab_df = pd.read_csv('C:\\\\Users\\\\peter\\\\code\\\\DataSets\\Cab_Data.csv')\n",
    "\n",
    "city_df = pd.read_csv('C:\\\\Users\\\\peter\\\\code\\\\DataSets\\City.csv')\n",
    "\n",
    "customer_df = pd.read_csv('C:\\\\Users\\\\peter\\\\code\\\\DataSets\\Customer_ID.csv')\n",
    "\n",
    "transaction_df = pd.read_csv('C:\\\\Users\\\\peter\\\\code\\\\DataSets\\Transaction_ID.csv')\n"
   ]
  },
  {
   "cell_type": "markdown",
   "id": "3b52acbe",
   "metadata": {},
   "source": [
    "## Data Understanding \n",
    "\n",
    "\n",
    "Each file (data set) provided represents different aspects of the customer profile. XYZ is interested in using my actionable insights to help them identify the right company to make their investment.\n",
    "\n",
    "Data Set:\n",
    "\n",
    "I have been provided 4 individual data sets. Time period of data is from 31/01/2016 to 31/12/2018.\n",
    "\n",
    "Below are the list of datasets which are provided for the analysis:\n",
    "\n",
    "- `Cab_Data.csv`: this file includes details of transaction for 2 cab companies\n",
    "\n",
    "- `Customer_ID.csv`: this is a mapping table that contains a unique identifier which links the customer’s demographic details\n",
    "\n",
    "- `Transaction_ID.csv`: this is a mapping table that contains transaction to customer mapping and payment mode\n",
    "\n",
    "- `City.csv`: this file contains list of US cities, their population and number of cab users"
   ]
  },
  {
   "cell_type": "markdown",
   "id": "3f45c8cf",
   "metadata": {},
   "source": [
    "#### Display Data Frames\n",
    "\n",
    "Here I am checking if the data was imported correctly. A visual represntation was created to test if data was actually imported. "
   ]
  },
  {
   "cell_type": "code",
   "execution_count": 3,
   "id": "6d42f97f",
   "metadata": {},
   "outputs": [
    {
     "data": {
      "text/html": [
       "<div>\n",
       "<style scoped>\n",
       "    .dataframe tbody tr th:only-of-type {\n",
       "        vertical-align: middle;\n",
       "    }\n",
       "\n",
       "    .dataframe tbody tr th {\n",
       "        vertical-align: top;\n",
       "    }\n",
       "\n",
       "    .dataframe thead th {\n",
       "        text-align: right;\n",
       "    }\n",
       "</style>\n",
       "<table border=\"1\" class=\"dataframe\">\n",
       "  <thead>\n",
       "    <tr style=\"text-align: right;\">\n",
       "      <th></th>\n",
       "      <th>Transaction ID</th>\n",
       "      <th>Date of Travel</th>\n",
       "      <th>Company</th>\n",
       "      <th>City</th>\n",
       "      <th>KM Travelled</th>\n",
       "      <th>Price Charged</th>\n",
       "      <th>Cost of Trip</th>\n",
       "    </tr>\n",
       "  </thead>\n",
       "  <tbody>\n",
       "    <tr>\n",
       "      <th>0</th>\n",
       "      <td>10000011</td>\n",
       "      <td>January 08, 2016</td>\n",
       "      <td>Pink Cab</td>\n",
       "      <td>ATLANTA GA</td>\n",
       "      <td>30.45</td>\n",
       "      <td>370.95</td>\n",
       "      <td>313.635</td>\n",
       "    </tr>\n",
       "    <tr>\n",
       "      <th>1</th>\n",
       "      <td>10000012</td>\n",
       "      <td>January 06, 2016</td>\n",
       "      <td>Pink Cab</td>\n",
       "      <td>ATLANTA GA</td>\n",
       "      <td>28.62</td>\n",
       "      <td>358.52</td>\n",
       "      <td>334.854</td>\n",
       "    </tr>\n",
       "    <tr>\n",
       "      <th>2</th>\n",
       "      <td>10000013</td>\n",
       "      <td>January 02, 2016</td>\n",
       "      <td>Pink Cab</td>\n",
       "      <td>ATLANTA GA</td>\n",
       "      <td>9.04</td>\n",
       "      <td>125.20</td>\n",
       "      <td>97.632</td>\n",
       "    </tr>\n",
       "    <tr>\n",
       "      <th>3</th>\n",
       "      <td>10000014</td>\n",
       "      <td>January 07, 2016</td>\n",
       "      <td>Pink Cab</td>\n",
       "      <td>ATLANTA GA</td>\n",
       "      <td>33.17</td>\n",
       "      <td>377.40</td>\n",
       "      <td>351.602</td>\n",
       "    </tr>\n",
       "    <tr>\n",
       "      <th>4</th>\n",
       "      <td>10000015</td>\n",
       "      <td>January 03, 2016</td>\n",
       "      <td>Pink Cab</td>\n",
       "      <td>ATLANTA GA</td>\n",
       "      <td>8.73</td>\n",
       "      <td>114.62</td>\n",
       "      <td>97.776</td>\n",
       "    </tr>\n",
       "  </tbody>\n",
       "</table>\n",
       "</div>"
      ],
      "text/plain": [
       "   Transaction ID    Date of Travel   Company        City  KM Travelled  \\\n",
       "0        10000011  January 08, 2016  Pink Cab  ATLANTA GA         30.45   \n",
       "1        10000012  January 06, 2016  Pink Cab  ATLANTA GA         28.62   \n",
       "2        10000013  January 02, 2016  Pink Cab  ATLANTA GA          9.04   \n",
       "3        10000014  January 07, 2016  Pink Cab  ATLANTA GA         33.17   \n",
       "4        10000015  January 03, 2016  Pink Cab  ATLANTA GA          8.73   \n",
       "\n",
       "   Price Charged  Cost of Trip  \n",
       "0         370.95       313.635  \n",
       "1         358.52       334.854  \n",
       "2         125.20        97.632  \n",
       "3         377.40       351.602  \n",
       "4         114.62        97.776  "
      ]
     },
     "execution_count": 3,
     "metadata": {},
     "output_type": "execute_result"
    }
   ],
   "source": [
    "cab_df.head()"
   ]
  },
  {
   "cell_type": "code",
   "execution_count": 4,
   "id": "5ff7d475",
   "metadata": {},
   "outputs": [
    {
     "data": {
      "text/html": [
       "<div>\n",
       "<style scoped>\n",
       "    .dataframe tbody tr th:only-of-type {\n",
       "        vertical-align: middle;\n",
       "    }\n",
       "\n",
       "    .dataframe tbody tr th {\n",
       "        vertical-align: top;\n",
       "    }\n",
       "\n",
       "    .dataframe thead th {\n",
       "        text-align: right;\n",
       "    }\n",
       "</style>\n",
       "<table border=\"1\" class=\"dataframe\">\n",
       "  <thead>\n",
       "    <tr style=\"text-align: right;\">\n",
       "      <th></th>\n",
       "      <th>City</th>\n",
       "      <th>Population</th>\n",
       "      <th>Users</th>\n",
       "    </tr>\n",
       "  </thead>\n",
       "  <tbody>\n",
       "    <tr>\n",
       "      <th>0</th>\n",
       "      <td>NEW YORK NY</td>\n",
       "      <td>8,405,837</td>\n",
       "      <td>302,149</td>\n",
       "    </tr>\n",
       "    <tr>\n",
       "      <th>1</th>\n",
       "      <td>CHICAGO IL</td>\n",
       "      <td>1,955,130</td>\n",
       "      <td>164,468</td>\n",
       "    </tr>\n",
       "    <tr>\n",
       "      <th>2</th>\n",
       "      <td>LOS ANGELES CA</td>\n",
       "      <td>1,595,037</td>\n",
       "      <td>144,132</td>\n",
       "    </tr>\n",
       "    <tr>\n",
       "      <th>3</th>\n",
       "      <td>MIAMI FL</td>\n",
       "      <td>1,339,155</td>\n",
       "      <td>17,675</td>\n",
       "    </tr>\n",
       "    <tr>\n",
       "      <th>4</th>\n",
       "      <td>SILICON VALLEY</td>\n",
       "      <td>1,177,609</td>\n",
       "      <td>27,247</td>\n",
       "    </tr>\n",
       "  </tbody>\n",
       "</table>\n",
       "</div>"
      ],
      "text/plain": [
       "             City   Population      Users\n",
       "0     NEW YORK NY   8,405,837    302,149 \n",
       "1      CHICAGO IL   1,955,130    164,468 \n",
       "2  LOS ANGELES CA   1,595,037    144,132 \n",
       "3        MIAMI FL   1,339,155     17,675 \n",
       "4  SILICON VALLEY   1,177,609     27,247 "
      ]
     },
     "execution_count": 4,
     "metadata": {},
     "output_type": "execute_result"
    }
   ],
   "source": [
    "city_df.head()"
   ]
  },
  {
   "cell_type": "code",
   "execution_count": 5,
   "id": "3fa5540b",
   "metadata": {},
   "outputs": [
    {
     "data": {
      "text/html": [
       "<div>\n",
       "<style scoped>\n",
       "    .dataframe tbody tr th:only-of-type {\n",
       "        vertical-align: middle;\n",
       "    }\n",
       "\n",
       "    .dataframe tbody tr th {\n",
       "        vertical-align: top;\n",
       "    }\n",
       "\n",
       "    .dataframe thead th {\n",
       "        text-align: right;\n",
       "    }\n",
       "</style>\n",
       "<table border=\"1\" class=\"dataframe\">\n",
       "  <thead>\n",
       "    <tr style=\"text-align: right;\">\n",
       "      <th></th>\n",
       "      <th>Customer ID</th>\n",
       "      <th>Gender</th>\n",
       "      <th>Age</th>\n",
       "      <th>Income (USD/Month)</th>\n",
       "    </tr>\n",
       "  </thead>\n",
       "  <tbody>\n",
       "    <tr>\n",
       "      <th>0</th>\n",
       "      <td>29290</td>\n",
       "      <td>Male</td>\n",
       "      <td>28</td>\n",
       "      <td>10813</td>\n",
       "    </tr>\n",
       "    <tr>\n",
       "      <th>1</th>\n",
       "      <td>27703</td>\n",
       "      <td>Male</td>\n",
       "      <td>27</td>\n",
       "      <td>9237</td>\n",
       "    </tr>\n",
       "    <tr>\n",
       "      <th>2</th>\n",
       "      <td>28712</td>\n",
       "      <td>Male</td>\n",
       "      <td>53</td>\n",
       "      <td>11242</td>\n",
       "    </tr>\n",
       "    <tr>\n",
       "      <th>3</th>\n",
       "      <td>28020</td>\n",
       "      <td>Male</td>\n",
       "      <td>23</td>\n",
       "      <td>23327</td>\n",
       "    </tr>\n",
       "    <tr>\n",
       "      <th>4</th>\n",
       "      <td>27182</td>\n",
       "      <td>Male</td>\n",
       "      <td>33</td>\n",
       "      <td>8536</td>\n",
       "    </tr>\n",
       "  </tbody>\n",
       "</table>\n",
       "</div>"
      ],
      "text/plain": [
       "   Customer ID Gender  Age  Income (USD/Month)\n",
       "0        29290   Male   28               10813\n",
       "1        27703   Male   27                9237\n",
       "2        28712   Male   53               11242\n",
       "3        28020   Male   23               23327\n",
       "4        27182   Male   33                8536"
      ]
     },
     "execution_count": 5,
     "metadata": {},
     "output_type": "execute_result"
    }
   ],
   "source": [
    "customer_df.head()"
   ]
  },
  {
   "cell_type": "code",
   "execution_count": 6,
   "id": "a7d3232c",
   "metadata": {},
   "outputs": [
    {
     "data": {
      "text/html": [
       "<div>\n",
       "<style scoped>\n",
       "    .dataframe tbody tr th:only-of-type {\n",
       "        vertical-align: middle;\n",
       "    }\n",
       "\n",
       "    .dataframe tbody tr th {\n",
       "        vertical-align: top;\n",
       "    }\n",
       "\n",
       "    .dataframe thead th {\n",
       "        text-align: right;\n",
       "    }\n",
       "</style>\n",
       "<table border=\"1\" class=\"dataframe\">\n",
       "  <thead>\n",
       "    <tr style=\"text-align: right;\">\n",
       "      <th></th>\n",
       "      <th>Transaction ID</th>\n",
       "      <th>Customer ID</th>\n",
       "      <th>Payment_Mode</th>\n",
       "    </tr>\n",
       "  </thead>\n",
       "  <tbody>\n",
       "    <tr>\n",
       "      <th>0</th>\n",
       "      <td>10000011</td>\n",
       "      <td>29290</td>\n",
       "      <td>Card</td>\n",
       "    </tr>\n",
       "    <tr>\n",
       "      <th>1</th>\n",
       "      <td>10000012</td>\n",
       "      <td>27703</td>\n",
       "      <td>Card</td>\n",
       "    </tr>\n",
       "    <tr>\n",
       "      <th>2</th>\n",
       "      <td>10000013</td>\n",
       "      <td>28712</td>\n",
       "      <td>Cash</td>\n",
       "    </tr>\n",
       "    <tr>\n",
       "      <th>3</th>\n",
       "      <td>10000014</td>\n",
       "      <td>28020</td>\n",
       "      <td>Cash</td>\n",
       "    </tr>\n",
       "    <tr>\n",
       "      <th>4</th>\n",
       "      <td>10000015</td>\n",
       "      <td>27182</td>\n",
       "      <td>Card</td>\n",
       "    </tr>\n",
       "  </tbody>\n",
       "</table>\n",
       "</div>"
      ],
      "text/plain": [
       "   Transaction ID  Customer ID Payment_Mode\n",
       "0        10000011        29290         Card\n",
       "1        10000012        27703         Card\n",
       "2        10000013        28712         Cash\n",
       "3        10000014        28020         Cash\n",
       "4        10000015        27182         Card"
      ]
     },
     "execution_count": 6,
     "metadata": {},
     "output_type": "execute_result"
    }
   ],
   "source": [
    "transaction_df.head()"
   ]
  },
  {
   "cell_type": "markdown",
   "id": "60a50b69",
   "metadata": {},
   "source": [
    "- In the given datasets all were comma separated files (csv)\n",
    "- I took a closer look at the data with the help of `.head()` function of the pandas library which returns the first 5 data of the dateset."
   ]
  },
  {
   "cell_type": "markdown",
   "id": "8d7c34e5",
   "metadata": {},
   "source": [
    "#### Understand the field names and data types\n",
    "\n",
    "In order to understand the different data frames I will be exploring the data structures.\n"
   ]
  },
  {
   "cell_type": "markdown",
   "id": "1dfe8895",
   "metadata": {},
   "source": [
    "I found out the total number of rows and columns in the datasets using `.shape` attribute."
   ]
  },
  {
   "cell_type": "code",
   "execution_count": 7,
   "id": "d32b7058",
   "metadata": {},
   "outputs": [
    {
     "data": {
      "text/plain": [
       "(359392, 7)"
      ]
     },
     "execution_count": 7,
     "metadata": {},
     "output_type": "execute_result"
    }
   ],
   "source": [
    "cab_df.shape\n"
   ]
  },
  {
   "cell_type": "markdown",
   "id": "4b6f8325",
   "metadata": {},
   "source": [
    "- The Cab dataset comprises of 359392 observations and 7 charactertics."
   ]
  },
  {
   "cell_type": "code",
   "execution_count": 8,
   "id": "1c6a6cab",
   "metadata": {},
   "outputs": [
    {
     "data": {
      "text/plain": [
       "(20, 3)"
      ]
     },
     "execution_count": 8,
     "metadata": {},
     "output_type": "execute_result"
    }
   ],
   "source": [
    "city_df.shape"
   ]
  },
  {
   "cell_type": "markdown",
   "id": "973ddea5",
   "metadata": {},
   "source": [
    "- The City dataset comprises of 20 observations and 3 charactertics."
   ]
  },
  {
   "cell_type": "code",
   "execution_count": 9,
   "id": "7f338c0e",
   "metadata": {},
   "outputs": [
    {
     "data": {
      "text/plain": [
       "(49171, 4)"
      ]
     },
     "execution_count": 9,
     "metadata": {},
     "output_type": "execute_result"
    }
   ],
   "source": [
    "customer_df.shape"
   ]
  },
  {
   "cell_type": "markdown",
   "id": "a7fe7c69",
   "metadata": {},
   "source": [
    "- The Customer dataset comprises of 49171 observations and 4 charactertics."
   ]
  },
  {
   "cell_type": "code",
   "execution_count": 10,
   "id": "9e365fa8",
   "metadata": {},
   "outputs": [
    {
     "data": {
      "text/plain": [
       "(440098, 3)"
      ]
     },
     "execution_count": 10,
     "metadata": {},
     "output_type": "execute_result"
    }
   ],
   "source": [
    "transaction_df.shape"
   ]
  },
  {
   "cell_type": "markdown",
   "id": "5b5882b2",
   "metadata": {},
   "source": [
    "- The Transaction dataset comprises of 440098 observations and 3 charactertics."
   ]
  },
  {
   "cell_type": "markdown",
   "id": "dd0aea92",
   "metadata": {},
   "source": [
    "I will now observe the columns and their corresponding data types to have a better understanding as well as find whether they contain null values or not. "
   ]
  },
  {
   "cell_type": "code",
   "execution_count": 11,
   "id": "ba514e0f",
   "metadata": {
    "scrolled": true
   },
   "outputs": [
    {
     "name": "stdout",
     "output_type": "stream",
     "text": [
      "<class 'pandas.core.frame.DataFrame'>\n",
      "RangeIndex: 359392 entries, 0 to 359391\n",
      "Data columns (total 7 columns):\n",
      " #   Column          Non-Null Count   Dtype  \n",
      "---  ------          --------------   -----  \n",
      " 0   Transaction ID  359392 non-null  int64  \n",
      " 1   Date of Travel  359392 non-null  object \n",
      " 2   Company         359392 non-null  object \n",
      " 3   City            359392 non-null  object \n",
      " 4   KM Travelled    359392 non-null  float64\n",
      " 5   Price Charged   359392 non-null  float64\n",
      " 6   Cost of Trip    359392 non-null  float64\n",
      "dtypes: float64(3), int64(1), object(3)\n",
      "memory usage: 19.2+ MB\n"
     ]
    }
   ],
   "source": [
    "cab_df.info()"
   ]
  },
  {
   "cell_type": "markdown",
   "id": "0db82fe9",
   "metadata": {},
   "source": [
    "- Data above has floats, integer and strings \n",
    "- No variable has null or missing values "
   ]
  },
  {
   "cell_type": "code",
   "execution_count": 12,
   "id": "70edbfa4",
   "metadata": {},
   "outputs": [
    {
     "name": "stdout",
     "output_type": "stream",
     "text": [
      "<class 'pandas.core.frame.DataFrame'>\n",
      "RangeIndex: 20 entries, 0 to 19\n",
      "Data columns (total 3 columns):\n",
      " #   Column      Non-Null Count  Dtype \n",
      "---  ------      --------------  ----- \n",
      " 0   City        20 non-null     object\n",
      " 1   Population  20 non-null     object\n",
      " 2   Users       20 non-null     object\n",
      "dtypes: object(3)\n",
      "memory usage: 608.0+ bytes\n"
     ]
    }
   ],
   "source": [
    "city_df.info()"
   ]
  },
  {
   "cell_type": "markdown",
   "id": "33dbb4e1",
   "metadata": {},
   "source": [
    "- Data above has only string values \n",
    "- No variable has null or missing values"
   ]
  },
  {
   "cell_type": "code",
   "execution_count": 13,
   "id": "06d698de",
   "metadata": {},
   "outputs": [
    {
     "name": "stdout",
     "output_type": "stream",
     "text": [
      "<class 'pandas.core.frame.DataFrame'>\n",
      "RangeIndex: 49171 entries, 0 to 49170\n",
      "Data columns (total 4 columns):\n",
      " #   Column              Non-Null Count  Dtype \n",
      "---  ------              --------------  ----- \n",
      " 0   Customer ID         49171 non-null  int64 \n",
      " 1   Gender              49171 non-null  object\n",
      " 2   Age                 49171 non-null  int64 \n",
      " 3   Income (USD/Month)  49171 non-null  int64 \n",
      "dtypes: int64(3), object(1)\n",
      "memory usage: 1.5+ MB\n"
     ]
    }
   ],
   "source": [
    "customer_df.info()"
   ]
  },
  {
   "cell_type": "markdown",
   "id": "dc496ca5",
   "metadata": {},
   "source": [
    "- Data above has only integer and string\n",
    "- No variable has null or missing values"
   ]
  },
  {
   "cell_type": "code",
   "execution_count": 14,
   "id": "89c5972c",
   "metadata": {},
   "outputs": [
    {
     "name": "stdout",
     "output_type": "stream",
     "text": [
      "<class 'pandas.core.frame.DataFrame'>\n",
      "RangeIndex: 440098 entries, 0 to 440097\n",
      "Data columns (total 3 columns):\n",
      " #   Column          Non-Null Count   Dtype \n",
      "---  ------          --------------   ----- \n",
      " 0   Transaction ID  440098 non-null  int64 \n",
      " 1   Customer ID     440098 non-null  int64 \n",
      " 2   Payment_Mode    440098 non-null  object\n",
      "dtypes: int64(2), object(1)\n",
      "memory usage: 10.1+ MB\n"
     ]
    }
   ],
   "source": [
    "transaction_df.info()"
   ]
  },
  {
   "cell_type": "markdown",
   "id": "171d6296",
   "metadata": {},
   "source": [
    "- Data above has only integer and string \n",
    "- No variable has null or missing values"
   ]
  },
  {
   "cell_type": "markdown",
   "id": "1505a6cd",
   "metadata": {},
   "source": [
    "#### Observations\n",
    "\n",
    "From the code above the following observations were made:\n",
    "\n",
    "1. The Column names used contains whitespaces instead of python preferred snakecase. \n",
    "2. There seems to be some relationship between dataframes.\n",
    "3. The dataframes contains no null values.\n",
    "\n",
    "\n",
    "#### Next Steps:\n",
    " \n",
    " 1. I will have to change whitespaces to snakecases.\n",
    " 2. I will investigate further for cardinality and normalization.\n",
    " "
   ]
  },
  {
   "cell_type": "markdown",
   "id": "c17927d5",
   "metadata": {},
   "source": [
    "#### Field/feature transformations\n",
    "\n",
    "The code directly below shows the column names before and after the change to python's preferred snakecase for each dataframe: "
   ]
  },
  {
   "cell_type": "code",
   "execution_count": 15,
   "id": "96c07f5e",
   "metadata": {
    "scrolled": true
   },
   "outputs": [
    {
     "data": {
      "text/plain": [
       "Index(['Transaction ID', 'Date of Travel', 'Company', 'City', 'KM Travelled',\n",
       "       'Price Charged', 'Cost of Trip'],\n",
       "      dtype='object')"
      ]
     },
     "execution_count": 15,
     "metadata": {},
     "output_type": "execute_result"
    }
   ],
   "source": [
    "cab_df.columns"
   ]
  },
  {
   "cell_type": "code",
   "execution_count": 16,
   "id": "ce99e33f",
   "metadata": {},
   "outputs": [
    {
     "data": {
      "text/html": [
       "<div>\n",
       "<style scoped>\n",
       "    .dataframe tbody tr th:only-of-type {\n",
       "        vertical-align: middle;\n",
       "    }\n",
       "\n",
       "    .dataframe tbody tr th {\n",
       "        vertical-align: top;\n",
       "    }\n",
       "\n",
       "    .dataframe thead th {\n",
       "        text-align: right;\n",
       "    }\n",
       "</style>\n",
       "<table border=\"1\" class=\"dataframe\">\n",
       "  <thead>\n",
       "    <tr style=\"text-align: right;\">\n",
       "      <th></th>\n",
       "      <th>Transaction_ID</th>\n",
       "      <th>Date_of_Travel</th>\n",
       "      <th>Company</th>\n",
       "      <th>City</th>\n",
       "      <th>KM_Travelled</th>\n",
       "      <th>Price_Charged</th>\n",
       "      <th>Cost_of_Trip</th>\n",
       "    </tr>\n",
       "  </thead>\n",
       "  <tbody>\n",
       "  </tbody>\n",
       "</table>\n",
       "</div>"
      ],
      "text/plain": [
       "Empty DataFrame\n",
       "Columns: [Transaction_ID, Date_of_Travel, Company, City, KM_Travelled, Price_Charged, Cost_of_Trip]\n",
       "Index: []"
      ]
     },
     "execution_count": 16,
     "metadata": {},
     "output_type": "execute_result"
    }
   ],
   "source": [
    "column_names =  list(cab_df.columns)\n",
    "for col in column_names:\n",
    "    column_names[column_names.index(col)] = col.replace(' ','_')\n",
    "    \n",
    "cab_df.columns = column_names\n",
    "cab_df.head(0)"
   ]
  },
  {
   "cell_type": "code",
   "execution_count": 17,
   "id": "ffeb12c3",
   "metadata": {},
   "outputs": [
    {
     "data": {
      "text/plain": [
       "Index(['City', 'Population', 'Users'], dtype='object')"
      ]
     },
     "execution_count": 17,
     "metadata": {},
     "output_type": "execute_result"
    }
   ],
   "source": [
    "city_df.columns"
   ]
  },
  {
   "cell_type": "code",
   "execution_count": 18,
   "id": "fac39bf9",
   "metadata": {},
   "outputs": [
    {
     "data": {
      "text/html": [
       "<div>\n",
       "<style scoped>\n",
       "    .dataframe tbody tr th:only-of-type {\n",
       "        vertical-align: middle;\n",
       "    }\n",
       "\n",
       "    .dataframe tbody tr th {\n",
       "        vertical-align: top;\n",
       "    }\n",
       "\n",
       "    .dataframe thead th {\n",
       "        text-align: right;\n",
       "    }\n",
       "</style>\n",
       "<table border=\"1\" class=\"dataframe\">\n",
       "  <thead>\n",
       "    <tr style=\"text-align: right;\">\n",
       "      <th></th>\n",
       "      <th>City</th>\n",
       "      <th>Population</th>\n",
       "      <th>Users</th>\n",
       "    </tr>\n",
       "  </thead>\n",
       "  <tbody>\n",
       "  </tbody>\n",
       "</table>\n",
       "</div>"
      ],
      "text/plain": [
       "Empty DataFrame\n",
       "Columns: [City, Population, Users]\n",
       "Index: []"
      ]
     },
     "execution_count": 18,
     "metadata": {},
     "output_type": "execute_result"
    }
   ],
   "source": [
    "column_names =  list(city_df.columns)\n",
    "for col in column_names:\n",
    "    column_names[column_names.index(col)] = col.replace(' ','_')\n",
    "    \n",
    "city_df.columns = column_names\n",
    "city_df.head(0)"
   ]
  },
  {
   "cell_type": "code",
   "execution_count": 19,
   "id": "2e05c8ca",
   "metadata": {},
   "outputs": [
    {
     "data": {
      "text/plain": [
       "Index(['Customer ID', 'Gender', 'Age', 'Income (USD/Month)'], dtype='object')"
      ]
     },
     "execution_count": 19,
     "metadata": {},
     "output_type": "execute_result"
    }
   ],
   "source": [
    "customer_df.columns"
   ]
  },
  {
   "cell_type": "code",
   "execution_count": 20,
   "id": "ac23e119",
   "metadata": {},
   "outputs": [
    {
     "data": {
      "text/html": [
       "<div>\n",
       "<style scoped>\n",
       "    .dataframe tbody tr th:only-of-type {\n",
       "        vertical-align: middle;\n",
       "    }\n",
       "\n",
       "    .dataframe tbody tr th {\n",
       "        vertical-align: top;\n",
       "    }\n",
       "\n",
       "    .dataframe thead th {\n",
       "        text-align: right;\n",
       "    }\n",
       "</style>\n",
       "<table border=\"1\" class=\"dataframe\">\n",
       "  <thead>\n",
       "    <tr style=\"text-align: right;\">\n",
       "      <th></th>\n",
       "      <th>Customer_ID</th>\n",
       "      <th>Gender</th>\n",
       "      <th>Age</th>\n",
       "      <th>Income_(USD/Month)</th>\n",
       "    </tr>\n",
       "  </thead>\n",
       "  <tbody>\n",
       "  </tbody>\n",
       "</table>\n",
       "</div>"
      ],
      "text/plain": [
       "Empty DataFrame\n",
       "Columns: [Customer_ID, Gender, Age, Income_(USD/Month)]\n",
       "Index: []"
      ]
     },
     "execution_count": 20,
     "metadata": {},
     "output_type": "execute_result"
    }
   ],
   "source": [
    "column_names =  list(customer_df.columns)\n",
    "for col in column_names:\n",
    "    column_names[column_names.index(col)] = col.replace(' ','_')\n",
    "    \n",
    "customer_df.columns = column_names\n",
    "customer_df.head(0)"
   ]
  },
  {
   "cell_type": "code",
   "execution_count": 21,
   "id": "869e0c56",
   "metadata": {},
   "outputs": [
    {
     "data": {
      "text/plain": [
       "Index(['Transaction ID', 'Customer ID', 'Payment_Mode'], dtype='object')"
      ]
     },
     "execution_count": 21,
     "metadata": {},
     "output_type": "execute_result"
    }
   ],
   "source": [
    "transaction_df.columns"
   ]
  },
  {
   "cell_type": "code",
   "execution_count": 22,
   "id": "5e39b3f7",
   "metadata": {
    "scrolled": true
   },
   "outputs": [
    {
     "data": {
      "text/html": [
       "<div>\n",
       "<style scoped>\n",
       "    .dataframe tbody tr th:only-of-type {\n",
       "        vertical-align: middle;\n",
       "    }\n",
       "\n",
       "    .dataframe tbody tr th {\n",
       "        vertical-align: top;\n",
       "    }\n",
       "\n",
       "    .dataframe thead th {\n",
       "        text-align: right;\n",
       "    }\n",
       "</style>\n",
       "<table border=\"1\" class=\"dataframe\">\n",
       "  <thead>\n",
       "    <tr style=\"text-align: right;\">\n",
       "      <th></th>\n",
       "      <th>Transaction_ID</th>\n",
       "      <th>Customer_ID</th>\n",
       "      <th>Payment_Mode</th>\n",
       "    </tr>\n",
       "  </thead>\n",
       "  <tbody>\n",
       "  </tbody>\n",
       "</table>\n",
       "</div>"
      ],
      "text/plain": [
       "Empty DataFrame\n",
       "Columns: [Transaction_ID, Customer_ID, Payment_Mode]\n",
       "Index: []"
      ]
     },
     "execution_count": 22,
     "metadata": {},
     "output_type": "execute_result"
    }
   ],
   "source": [
    "column_names =  list(transaction_df.columns)\n",
    "for col in column_names:\n",
    "    column_names[column_names.index(col)] = col.replace(' ','_')\n",
    "    \n",
    "transaction_df.columns = column_names\n",
    "transaction_df.head(0)"
   ]
  },
  {
   "cell_type": "markdown",
   "id": "37aba76b",
   "metadata": {},
   "source": [
    "I have realised that some data types need to be changed and as such I will perform those transformations here. "
   ]
  },
  {
   "cell_type": "code",
   "execution_count": 23,
   "id": "cb2d9611",
   "metadata": {},
   "outputs": [
    {
     "data": {
      "text/plain": [
       "Transaction_ID     object\n",
       "Date_of_Travel     object\n",
       "Company            object\n",
       "City               object\n",
       "KM_Travelled      float64\n",
       "Price_Charged     float64\n",
       "Cost_of_Trip      float64\n",
       "dtype: object"
      ]
     },
     "execution_count": 23,
     "metadata": {},
     "output_type": "execute_result"
    }
   ],
   "source": [
    "# Transform Transaction ID to string data type\n",
    "cab_df['Transaction_ID'] = cab_df['Transaction_ID'].astype(str)\n",
    "cab_df.dtypes"
   ]
  },
  {
   "cell_type": "code",
   "execution_count": 24,
   "id": "b48dc8db",
   "metadata": {},
   "outputs": [
    {
     "data": {
      "text/plain": [
       "City          object\n",
       "Population     int32\n",
       "Users         object\n",
       "dtype: object"
      ]
     },
     "execution_count": 24,
     "metadata": {},
     "output_type": "execute_result"
    }
   ],
   "source": [
    "# Transform Population to Integer data type\n",
    "city_df['Population'] = city_df['Population'].str.replace(',','')\n",
    "city_df['Population'] = city_df['Population'].astype(int)\n",
    "city_df.dtypes"
   ]
  },
  {
   "cell_type": "code",
   "execution_count": 25,
   "id": "a1e8e517",
   "metadata": {},
   "outputs": [
    {
     "data": {
      "text/plain": [
       "City          object\n",
       "Population     int32\n",
       "Users          int32\n",
       "dtype: object"
      ]
     },
     "execution_count": 25,
     "metadata": {},
     "output_type": "execute_result"
    }
   ],
   "source": [
    "# Transform Users to Integer data type\n",
    "city_df['Users'] = city_df['Users'].str.replace(',','')\n",
    "city_df['Users'] = city_df['Users'].astype(int)\n",
    "city_df.dtypes"
   ]
  },
  {
   "cell_type": "code",
   "execution_count": 26,
   "id": "33e2d8e3",
   "metadata": {},
   "outputs": [
    {
     "data": {
      "text/plain": [
       "Customer_ID           object\n",
       "Gender                object\n",
       "Age                    int64\n",
       "Income_(USD/Month)     int64\n",
       "dtype: object"
      ]
     },
     "execution_count": 26,
     "metadata": {},
     "output_type": "execute_result"
    }
   ],
   "source": [
    "# Transform Customer ID to string data type\n",
    "customer_df['Customer_ID'] = customer_df['Customer_ID'].astype(str)\n",
    "customer_df.dtypes"
   ]
  },
  {
   "cell_type": "code",
   "execution_count": 27,
   "id": "78dd9270",
   "metadata": {},
   "outputs": [
    {
     "data": {
      "text/plain": [
       "Customer_ID            object\n",
       "Gender                 object\n",
       "Age                     int64\n",
       "Income_(USD/Month)    float64\n",
       "dtype: object"
      ]
     },
     "execution_count": 27,
     "metadata": {},
     "output_type": "execute_result"
    }
   ],
   "source": [
    "# Transform Income to float data type\n",
    "customer_df['Income_(USD/Month)'] = customer_df['Income_(USD/Month)'].astype(float)\n",
    "customer_df.dtypes"
   ]
  },
  {
   "cell_type": "code",
   "execution_count": 28,
   "id": "51ae7abb",
   "metadata": {},
   "outputs": [
    {
     "data": {
      "text/plain": [
       "Transaction_ID    object\n",
       "Customer_ID        int64\n",
       "Payment_Mode      object\n",
       "dtype: object"
      ]
     },
     "execution_count": 28,
     "metadata": {},
     "output_type": "execute_result"
    }
   ],
   "source": [
    "# Transform Transaction ID to string data type\n",
    "transaction_df['Transaction_ID'] = transaction_df['Transaction_ID'].astype(str)\n",
    "transaction_df.dtypes"
   ]
  },
  {
   "cell_type": "code",
   "execution_count": 29,
   "id": "ce7650d9",
   "metadata": {},
   "outputs": [
    {
     "data": {
      "text/plain": [
       "Transaction_ID    object\n",
       "Customer_ID       object\n",
       "Payment_Mode      object\n",
       "dtype: object"
      ]
     },
     "execution_count": 29,
     "metadata": {},
     "output_type": "execute_result"
    }
   ],
   "source": [
    "# Transform Customer ID to string data type\n",
    "transaction_df['Customer_ID'] = transaction_df['Customer_ID'].astype(str)\n",
    "transaction_df.dtypes"
   ]
  },
  {
   "cell_type": "markdown",
   "id": "9fdf4034",
   "metadata": {},
   "source": [
    "Now I am going to identify the relationship between the dataframes as well as determine which ones should be joined and which ones should be appended. Before I am able to join the datasets I will need to identify which dataframe contains the primary key and the foreign key. This will help in determining the cardinality of the relationship between dataframes."
   ]
  },
  {
   "cell_type": "markdown",
   "id": "297b36e4",
   "metadata": {},
   "source": [
    "From the field name transformations above I have identified the following relationships:\n",
    "\n",
    "- the cab dataframe has a relationship with the transaction dataframe\n",
    "- the cab dataframe has a relationship with the city dataframe \n",
    "- the customer dataframe has a relationship with the transaction dataframe \n",
    " \n",
    "\n",
    "From prior knowledge I know that the primary key is the main identifier for the dataframe and it should have no duplicates, Hence, it identifies each observation uniquely. This means that I can identify which dataframe contains the primary key along with which ones contain foreign keys and/or composite keys.\n"
   ]
  },
  {
   "cell_type": "markdown",
   "id": "6d65f325",
   "metadata": {},
   "source": [
    "**Here I analyse both the cab and transaction dataframes:** "
   ]
  },
  {
   "cell_type": "code",
   "execution_count": 30,
   "id": "5072c005",
   "metadata": {},
   "outputs": [
    {
     "data": {
      "text/plain": [
       "440098"
      ]
     },
     "execution_count": 30,
     "metadata": {},
     "output_type": "execute_result"
    }
   ],
   "source": [
    "transaction_df.Transaction_ID.nunique()"
   ]
  },
  {
   "cell_type": "code",
   "execution_count": 31,
   "id": "817a7be1",
   "metadata": {
    "scrolled": true
   },
   "outputs": [
    {
     "data": {
      "text/plain": [
       "10170188    1\n",
       "10357666    1\n",
       "10110900    1\n",
       "10323450    1\n",
       "10184518    1\n",
       "           ..\n",
       "10397601    1\n",
       "10402839    1\n",
       "10391382    1\n",
       "10137711    1\n",
       "10162218    1\n",
       "Name: Transaction_ID, Length: 440098, dtype: int64"
      ]
     },
     "execution_count": 31,
     "metadata": {},
     "output_type": "execute_result"
    }
   ],
   "source": [
    "transaction_df.Transaction_ID.value_counts()"
   ]
  },
  {
   "cell_type": "code",
   "execution_count": 32,
   "id": "1b814ad9",
   "metadata": {},
   "outputs": [
    {
     "data": {
      "text/plain": [
       "359392"
      ]
     },
     "execution_count": 32,
     "metadata": {},
     "output_type": "execute_result"
    }
   ],
   "source": [
    "cab_df.Transaction_ID.nunique()"
   ]
  },
  {
   "cell_type": "code",
   "execution_count": 33,
   "id": "cec63d9b",
   "metadata": {
    "scrolled": true
   },
   "outputs": [
    {
     "data": {
      "text/plain": [
       "10377513    1\n",
       "10264880    1\n",
       "10314979    1\n",
       "10365364    1\n",
       "10036306    1\n",
       "           ..\n",
       "10018542    1\n",
       "10334905    1\n",
       "10067116    1\n",
       "10160012    1\n",
       "10170738    1\n",
       "Name: Transaction_ID, Length: 359392, dtype: int64"
      ]
     },
     "execution_count": 33,
     "metadata": {},
     "output_type": "execute_result"
    }
   ],
   "source": [
    "cab_df.Transaction_ID.value_counts()"
   ]
  },
  {
   "cell_type": "markdown",
   "id": "38e02330",
   "metadata": {},
   "source": [
    "\n",
    "> Here I realised that both transaction IDs for each dataset uniquely identify each observation as such it gives me insight into the type of join I will conduct"
   ]
  },
  {
   "cell_type": "code",
   "execution_count": 34,
   "id": "fb85fe1e",
   "metadata": {},
   "outputs": [
    {
     "data": {
      "text/plain": [
       "49171"
      ]
     },
     "execution_count": 34,
     "metadata": {},
     "output_type": "execute_result"
    }
   ],
   "source": [
    "customer_df.Customer_ID.nunique()"
   ]
  },
  {
   "cell_type": "code",
   "execution_count": 35,
   "id": "10e7a1eb",
   "metadata": {},
   "outputs": [
    {
     "data": {
      "text/plain": [
       "8594     1\n",
       "207      1\n",
       "33212    1\n",
       "23446    1\n",
       "53997    1\n",
       "        ..\n",
       "18898    1\n",
       "43862    1\n",
       "58217    1\n",
       "25476    1\n",
       "56100    1\n",
       "Name: Customer_ID, Length: 49171, dtype: int64"
      ]
     },
     "execution_count": 35,
     "metadata": {},
     "output_type": "execute_result"
    }
   ],
   "source": [
    "customer_df.Customer_ID.value_counts()"
   ]
  },
  {
   "cell_type": "markdown",
   "id": "d2a9c810",
   "metadata": {},
   "source": [
    "> Each customer ID represents one observation in the customer dataframe. This gives great insight into how I will join the different datasets"
   ]
  },
  {
   "cell_type": "code",
   "execution_count": 36,
   "id": "12fc8ded",
   "metadata": {},
   "outputs": [
    {
     "data": {
      "text/plain": [
       "20"
      ]
     },
     "execution_count": 36,
     "metadata": {},
     "output_type": "execute_result"
    }
   ],
   "source": [
    "city_df.City.nunique()"
   ]
  },
  {
   "cell_type": "code",
   "execution_count": 37,
   "id": "13eb1f1c",
   "metadata": {},
   "outputs": [
    {
     "data": {
      "text/plain": [
       "ATLANTA GA          1\n",
       "AUSTIN TX           1\n",
       "CHICAGO IL          1\n",
       "SILICON VALLEY      1\n",
       "NEW YORK NY         1\n",
       "BOSTON MA           1\n",
       "PITTSBURGH PA       1\n",
       "MIAMI FL            1\n",
       "ORANGE COUNTY       1\n",
       "SACRAMENTO CA       1\n",
       "TUCSON AZ           1\n",
       "WASHINGTON DC       1\n",
       "SEATTLE WA          1\n",
       "DENVER CO           1\n",
       "SAN DIEGO CA        1\n",
       "DALLAS TX           1\n",
       "LOS ANGELES CA      1\n",
       "SAN FRANCISCO CA    1\n",
       "PHOENIX AZ          1\n",
       "NASHVILLE TN        1\n",
       "Name: City, dtype: int64"
      ]
     },
     "execution_count": 37,
     "metadata": {},
     "output_type": "execute_result"
    }
   ],
   "source": [
    "city_df.City.value_counts()"
   ]
  },
  {
   "cell_type": "markdown",
   "id": "6926817d",
   "metadata": {},
   "source": [
    "> Each city represents one observation in the city dataframe. This gives great insight into how I will join the different datasets"
   ]
  },
  {
   "cell_type": "markdown",
   "id": "4e2285aa",
   "metadata": {},
   "source": [
    "Base on my observation it is my opinion that none of the datasets needs to be appended. Hence, I will join (merge) the necessary columns. "
   ]
  },
  {
   "cell_type": "code",
   "execution_count": 38,
   "id": "fad5b50d",
   "metadata": {},
   "outputs": [
    {
     "data": {
      "text/html": [
       "<div>\n",
       "<style scoped>\n",
       "    .dataframe tbody tr th:only-of-type {\n",
       "        vertical-align: middle;\n",
       "    }\n",
       "\n",
       "    .dataframe tbody tr th {\n",
       "        vertical-align: top;\n",
       "    }\n",
       "\n",
       "    .dataframe thead th {\n",
       "        text-align: right;\n",
       "    }\n",
       "</style>\n",
       "<table border=\"1\" class=\"dataframe\">\n",
       "  <thead>\n",
       "    <tr style=\"text-align: right;\">\n",
       "      <th></th>\n",
       "      <th>Transaction_ID</th>\n",
       "      <th>Date_of_Travel</th>\n",
       "      <th>Company</th>\n",
       "      <th>City</th>\n",
       "      <th>KM_Travelled</th>\n",
       "      <th>Price_Charged</th>\n",
       "      <th>Cost_of_Trip</th>\n",
       "      <th>Customer_ID</th>\n",
       "      <th>Payment_Mode</th>\n",
       "    </tr>\n",
       "  </thead>\n",
       "  <tbody>\n",
       "    <tr>\n",
       "      <th>0</th>\n",
       "      <td>10000011</td>\n",
       "      <td>January 08, 2016</td>\n",
       "      <td>Pink Cab</td>\n",
       "      <td>ATLANTA GA</td>\n",
       "      <td>30.45</td>\n",
       "      <td>370.95</td>\n",
       "      <td>313.6350</td>\n",
       "      <td>29290</td>\n",
       "      <td>Card</td>\n",
       "    </tr>\n",
       "    <tr>\n",
       "      <th>1</th>\n",
       "      <td>10000012</td>\n",
       "      <td>January 06, 2016</td>\n",
       "      <td>Pink Cab</td>\n",
       "      <td>ATLANTA GA</td>\n",
       "      <td>28.62</td>\n",
       "      <td>358.52</td>\n",
       "      <td>334.8540</td>\n",
       "      <td>27703</td>\n",
       "      <td>Card</td>\n",
       "    </tr>\n",
       "    <tr>\n",
       "      <th>2</th>\n",
       "      <td>10000013</td>\n",
       "      <td>January 02, 2016</td>\n",
       "      <td>Pink Cab</td>\n",
       "      <td>ATLANTA GA</td>\n",
       "      <td>9.04</td>\n",
       "      <td>125.20</td>\n",
       "      <td>97.6320</td>\n",
       "      <td>28712</td>\n",
       "      <td>Cash</td>\n",
       "    </tr>\n",
       "    <tr>\n",
       "      <th>3</th>\n",
       "      <td>10000014</td>\n",
       "      <td>January 07, 2016</td>\n",
       "      <td>Pink Cab</td>\n",
       "      <td>ATLANTA GA</td>\n",
       "      <td>33.17</td>\n",
       "      <td>377.40</td>\n",
       "      <td>351.6020</td>\n",
       "      <td>28020</td>\n",
       "      <td>Cash</td>\n",
       "    </tr>\n",
       "    <tr>\n",
       "      <th>4</th>\n",
       "      <td>10000015</td>\n",
       "      <td>January 03, 2016</td>\n",
       "      <td>Pink Cab</td>\n",
       "      <td>ATLANTA GA</td>\n",
       "      <td>8.73</td>\n",
       "      <td>114.62</td>\n",
       "      <td>97.7760</td>\n",
       "      <td>27182</td>\n",
       "      <td>Card</td>\n",
       "    </tr>\n",
       "    <tr>\n",
       "      <th>...</th>\n",
       "      <td>...</td>\n",
       "      <td>...</td>\n",
       "      <td>...</td>\n",
       "      <td>...</td>\n",
       "      <td>...</td>\n",
       "      <td>...</td>\n",
       "      <td>...</td>\n",
       "      <td>...</td>\n",
       "      <td>...</td>\n",
       "    </tr>\n",
       "    <tr>\n",
       "      <th>359387</th>\n",
       "      <td>10440101</td>\n",
       "      <td>January 08, 2018</td>\n",
       "      <td>Yellow Cab</td>\n",
       "      <td>WASHINGTON DC</td>\n",
       "      <td>4.80</td>\n",
       "      <td>69.24</td>\n",
       "      <td>63.3600</td>\n",
       "      <td>52392</td>\n",
       "      <td>Cash</td>\n",
       "    </tr>\n",
       "    <tr>\n",
       "      <th>359388</th>\n",
       "      <td>10440104</td>\n",
       "      <td>January 04, 2018</td>\n",
       "      <td>Yellow Cab</td>\n",
       "      <td>WASHINGTON DC</td>\n",
       "      <td>8.40</td>\n",
       "      <td>113.75</td>\n",
       "      <td>106.8480</td>\n",
       "      <td>53286</td>\n",
       "      <td>Cash</td>\n",
       "    </tr>\n",
       "    <tr>\n",
       "      <th>359389</th>\n",
       "      <td>10440105</td>\n",
       "      <td>January 05, 2018</td>\n",
       "      <td>Yellow Cab</td>\n",
       "      <td>WASHINGTON DC</td>\n",
       "      <td>27.75</td>\n",
       "      <td>437.07</td>\n",
       "      <td>349.6500</td>\n",
       "      <td>52265</td>\n",
       "      <td>Cash</td>\n",
       "    </tr>\n",
       "    <tr>\n",
       "      <th>359390</th>\n",
       "      <td>10440106</td>\n",
       "      <td>January 05, 2018</td>\n",
       "      <td>Yellow Cab</td>\n",
       "      <td>WASHINGTON DC</td>\n",
       "      <td>8.80</td>\n",
       "      <td>146.19</td>\n",
       "      <td>114.0480</td>\n",
       "      <td>52175</td>\n",
       "      <td>Card</td>\n",
       "    </tr>\n",
       "    <tr>\n",
       "      <th>359391</th>\n",
       "      <td>10440107</td>\n",
       "      <td>January 02, 2018</td>\n",
       "      <td>Yellow Cab</td>\n",
       "      <td>WASHINGTON DC</td>\n",
       "      <td>12.76</td>\n",
       "      <td>191.58</td>\n",
       "      <td>177.6192</td>\n",
       "      <td>52917</td>\n",
       "      <td>Card</td>\n",
       "    </tr>\n",
       "  </tbody>\n",
       "</table>\n",
       "<p>359392 rows × 9 columns</p>\n",
       "</div>"
      ],
      "text/plain": [
       "       Transaction_ID    Date_of_Travel     Company           City  \\\n",
       "0            10000011  January 08, 2016    Pink Cab     ATLANTA GA   \n",
       "1            10000012  January 06, 2016    Pink Cab     ATLANTA GA   \n",
       "2            10000013  January 02, 2016    Pink Cab     ATLANTA GA   \n",
       "3            10000014  January 07, 2016    Pink Cab     ATLANTA GA   \n",
       "4            10000015  January 03, 2016    Pink Cab     ATLANTA GA   \n",
       "...               ...               ...         ...            ...   \n",
       "359387       10440101  January 08, 2018  Yellow Cab  WASHINGTON DC   \n",
       "359388       10440104  January 04, 2018  Yellow Cab  WASHINGTON DC   \n",
       "359389       10440105  January 05, 2018  Yellow Cab  WASHINGTON DC   \n",
       "359390       10440106  January 05, 2018  Yellow Cab  WASHINGTON DC   \n",
       "359391       10440107  January 02, 2018  Yellow Cab  WASHINGTON DC   \n",
       "\n",
       "        KM_Travelled  Price_Charged  Cost_of_Trip Customer_ID Payment_Mode  \n",
       "0              30.45         370.95      313.6350       29290         Card  \n",
       "1              28.62         358.52      334.8540       27703         Card  \n",
       "2               9.04         125.20       97.6320       28712         Cash  \n",
       "3              33.17         377.40      351.6020       28020         Cash  \n",
       "4               8.73         114.62       97.7760       27182         Card  \n",
       "...              ...            ...           ...         ...          ...  \n",
       "359387          4.80          69.24       63.3600       52392         Cash  \n",
       "359388          8.40         113.75      106.8480       53286         Cash  \n",
       "359389         27.75         437.07      349.6500       52265         Cash  \n",
       "359390          8.80         146.19      114.0480       52175         Card  \n",
       "359391         12.76         191.58      177.6192       52917         Card  \n",
       "\n",
       "[359392 rows x 9 columns]"
      ]
     },
     "execution_count": 38,
     "metadata": {},
     "output_type": "execute_result"
    }
   ],
   "source": [
    "dataset = pd.merge(cab_df,transaction_df, how = 'inner', on = 'Transaction_ID') \n",
    "dataset"
   ]
  },
  {
   "cell_type": "code",
   "execution_count": 39,
   "id": "e4763667",
   "metadata": {},
   "outputs": [
    {
     "data": {
      "text/html": [
       "<div>\n",
       "<style scoped>\n",
       "    .dataframe tbody tr th:only-of-type {\n",
       "        vertical-align: middle;\n",
       "    }\n",
       "\n",
       "    .dataframe tbody tr th {\n",
       "        vertical-align: top;\n",
       "    }\n",
       "\n",
       "    .dataframe thead th {\n",
       "        text-align: right;\n",
       "    }\n",
       "</style>\n",
       "<table border=\"1\" class=\"dataframe\">\n",
       "  <thead>\n",
       "    <tr style=\"text-align: right;\">\n",
       "      <th></th>\n",
       "      <th>Transaction_ID</th>\n",
       "      <th>Date_of_Travel</th>\n",
       "      <th>Company</th>\n",
       "      <th>City</th>\n",
       "      <th>KM_Travelled</th>\n",
       "      <th>Price_Charged</th>\n",
       "      <th>Cost_of_Trip</th>\n",
       "      <th>Customer_ID</th>\n",
       "      <th>Payment_Mode</th>\n",
       "      <th>Gender</th>\n",
       "      <th>Age</th>\n",
       "      <th>Income_(USD/Month)</th>\n",
       "    </tr>\n",
       "  </thead>\n",
       "  <tbody>\n",
       "    <tr>\n",
       "      <th>0</th>\n",
       "      <td>10000011</td>\n",
       "      <td>January 08, 2016</td>\n",
       "      <td>Pink Cab</td>\n",
       "      <td>ATLANTA GA</td>\n",
       "      <td>30.45</td>\n",
       "      <td>370.95</td>\n",
       "      <td>313.6350</td>\n",
       "      <td>29290</td>\n",
       "      <td>Card</td>\n",
       "      <td>Male</td>\n",
       "      <td>28</td>\n",
       "      <td>10813.0</td>\n",
       "    </tr>\n",
       "    <tr>\n",
       "      <th>1</th>\n",
       "      <td>10351127</td>\n",
       "      <td>July 21, 2018</td>\n",
       "      <td>Yellow Cab</td>\n",
       "      <td>ATLANTA GA</td>\n",
       "      <td>26.19</td>\n",
       "      <td>598.70</td>\n",
       "      <td>317.4228</td>\n",
       "      <td>29290</td>\n",
       "      <td>Cash</td>\n",
       "      <td>Male</td>\n",
       "      <td>28</td>\n",
       "      <td>10813.0</td>\n",
       "    </tr>\n",
       "    <tr>\n",
       "      <th>2</th>\n",
       "      <td>10412921</td>\n",
       "      <td>November 23, 2018</td>\n",
       "      <td>Yellow Cab</td>\n",
       "      <td>ATLANTA GA</td>\n",
       "      <td>42.55</td>\n",
       "      <td>792.05</td>\n",
       "      <td>597.4020</td>\n",
       "      <td>29290</td>\n",
       "      <td>Card</td>\n",
       "      <td>Male</td>\n",
       "      <td>28</td>\n",
       "      <td>10813.0</td>\n",
       "    </tr>\n",
       "    <tr>\n",
       "      <th>3</th>\n",
       "      <td>10000012</td>\n",
       "      <td>January 06, 2016</td>\n",
       "      <td>Pink Cab</td>\n",
       "      <td>ATLANTA GA</td>\n",
       "      <td>28.62</td>\n",
       "      <td>358.52</td>\n",
       "      <td>334.8540</td>\n",
       "      <td>27703</td>\n",
       "      <td>Card</td>\n",
       "      <td>Male</td>\n",
       "      <td>27</td>\n",
       "      <td>9237.0</td>\n",
       "    </tr>\n",
       "    <tr>\n",
       "      <th>4</th>\n",
       "      <td>10320494</td>\n",
       "      <td>April 21, 2018</td>\n",
       "      <td>Yellow Cab</td>\n",
       "      <td>ATLANTA GA</td>\n",
       "      <td>36.38</td>\n",
       "      <td>721.10</td>\n",
       "      <td>467.1192</td>\n",
       "      <td>27703</td>\n",
       "      <td>Card</td>\n",
       "      <td>Male</td>\n",
       "      <td>27</td>\n",
       "      <td>9237.0</td>\n",
       "    </tr>\n",
       "    <tr>\n",
       "      <th>...</th>\n",
       "      <td>...</td>\n",
       "      <td>...</td>\n",
       "      <td>...</td>\n",
       "      <td>...</td>\n",
       "      <td>...</td>\n",
       "      <td>...</td>\n",
       "      <td>...</td>\n",
       "      <td>...</td>\n",
       "      <td>...</td>\n",
       "      <td>...</td>\n",
       "      <td>...</td>\n",
       "      <td>...</td>\n",
       "    </tr>\n",
       "    <tr>\n",
       "      <th>359387</th>\n",
       "      <td>10439790</td>\n",
       "      <td>January 07, 2018</td>\n",
       "      <td>Yellow Cab</td>\n",
       "      <td>SEATTLE WA</td>\n",
       "      <td>16.66</td>\n",
       "      <td>261.18</td>\n",
       "      <td>213.9144</td>\n",
       "      <td>38520</td>\n",
       "      <td>Card</td>\n",
       "      <td>Female</td>\n",
       "      <td>42</td>\n",
       "      <td>19417.0</td>\n",
       "    </tr>\n",
       "    <tr>\n",
       "      <th>359388</th>\n",
       "      <td>10439799</td>\n",
       "      <td>January 03, 2018</td>\n",
       "      <td>Yellow Cab</td>\n",
       "      <td>SILICON VALLEY</td>\n",
       "      <td>13.72</td>\n",
       "      <td>277.97</td>\n",
       "      <td>172.8720</td>\n",
       "      <td>12490</td>\n",
       "      <td>Cash</td>\n",
       "      <td>Male</td>\n",
       "      <td>33</td>\n",
       "      <td>18713.0</td>\n",
       "    </tr>\n",
       "    <tr>\n",
       "      <th>359389</th>\n",
       "      <td>10439838</td>\n",
       "      <td>January 04, 2018</td>\n",
       "      <td>Yellow Cab</td>\n",
       "      <td>TUCSON AZ</td>\n",
       "      <td>19.00</td>\n",
       "      <td>303.77</td>\n",
       "      <td>232.5600</td>\n",
       "      <td>41414</td>\n",
       "      <td>Card</td>\n",
       "      <td>Male</td>\n",
       "      <td>38</td>\n",
       "      <td>3960.0</td>\n",
       "    </tr>\n",
       "    <tr>\n",
       "      <th>359390</th>\n",
       "      <td>10439840</td>\n",
       "      <td>January 06, 2018</td>\n",
       "      <td>Yellow Cab</td>\n",
       "      <td>TUCSON AZ</td>\n",
       "      <td>5.60</td>\n",
       "      <td>92.42</td>\n",
       "      <td>70.5600</td>\n",
       "      <td>41677</td>\n",
       "      <td>Cash</td>\n",
       "      <td>Male</td>\n",
       "      <td>23</td>\n",
       "      <td>19454.0</td>\n",
       "    </tr>\n",
       "    <tr>\n",
       "      <th>359391</th>\n",
       "      <td>10439846</td>\n",
       "      <td>January 04, 2018</td>\n",
       "      <td>Yellow Cab</td>\n",
       "      <td>TUCSON AZ</td>\n",
       "      <td>13.30</td>\n",
       "      <td>244.65</td>\n",
       "      <td>180.3480</td>\n",
       "      <td>39761</td>\n",
       "      <td>Card</td>\n",
       "      <td>Female</td>\n",
       "      <td>32</td>\n",
       "      <td>10128.0</td>\n",
       "    </tr>\n",
       "  </tbody>\n",
       "</table>\n",
       "<p>359392 rows × 12 columns</p>\n",
       "</div>"
      ],
      "text/plain": [
       "       Transaction_ID     Date_of_Travel     Company            City  \\\n",
       "0            10000011   January 08, 2016    Pink Cab      ATLANTA GA   \n",
       "1            10351127      July 21, 2018  Yellow Cab      ATLANTA GA   \n",
       "2            10412921  November 23, 2018  Yellow Cab      ATLANTA GA   \n",
       "3            10000012   January 06, 2016    Pink Cab      ATLANTA GA   \n",
       "4            10320494     April 21, 2018  Yellow Cab      ATLANTA GA   \n",
       "...               ...                ...         ...             ...   \n",
       "359387       10439790   January 07, 2018  Yellow Cab      SEATTLE WA   \n",
       "359388       10439799   January 03, 2018  Yellow Cab  SILICON VALLEY   \n",
       "359389       10439838   January 04, 2018  Yellow Cab       TUCSON AZ   \n",
       "359390       10439840   January 06, 2018  Yellow Cab       TUCSON AZ   \n",
       "359391       10439846   January 04, 2018  Yellow Cab       TUCSON AZ   \n",
       "\n",
       "        KM_Travelled  Price_Charged  Cost_of_Trip Customer_ID Payment_Mode  \\\n",
       "0              30.45         370.95      313.6350       29290         Card   \n",
       "1              26.19         598.70      317.4228       29290         Cash   \n",
       "2              42.55         792.05      597.4020       29290         Card   \n",
       "3              28.62         358.52      334.8540       27703         Card   \n",
       "4              36.38         721.10      467.1192       27703         Card   \n",
       "...              ...            ...           ...         ...          ...   \n",
       "359387         16.66         261.18      213.9144       38520         Card   \n",
       "359388         13.72         277.97      172.8720       12490         Cash   \n",
       "359389         19.00         303.77      232.5600       41414         Card   \n",
       "359390          5.60          92.42       70.5600       41677         Cash   \n",
       "359391         13.30         244.65      180.3480       39761         Card   \n",
       "\n",
       "        Gender  Age  Income_(USD/Month)  \n",
       "0         Male   28             10813.0  \n",
       "1         Male   28             10813.0  \n",
       "2         Male   28             10813.0  \n",
       "3         Male   27              9237.0  \n",
       "4         Male   27              9237.0  \n",
       "...        ...  ...                 ...  \n",
       "359387  Female   42             19417.0  \n",
       "359388    Male   33             18713.0  \n",
       "359389    Male   38              3960.0  \n",
       "359390    Male   23             19454.0  \n",
       "359391  Female   32             10128.0  \n",
       "\n",
       "[359392 rows x 12 columns]"
      ]
     },
     "execution_count": 39,
     "metadata": {},
     "output_type": "execute_result"
    }
   ],
   "source": [
    "dataset = pd.merge(dataset, customer_df, how = 'inner', on = 'Customer_ID')\n",
    "dataset"
   ]
  },
  {
   "cell_type": "code",
   "execution_count": 40,
   "id": "33dd715c",
   "metadata": {},
   "outputs": [
    {
     "data": {
      "text/html": [
       "<div>\n",
       "<style scoped>\n",
       "    .dataframe tbody tr th:only-of-type {\n",
       "        vertical-align: middle;\n",
       "    }\n",
       "\n",
       "    .dataframe tbody tr th {\n",
       "        vertical-align: top;\n",
       "    }\n",
       "\n",
       "    .dataframe thead th {\n",
       "        text-align: right;\n",
       "    }\n",
       "</style>\n",
       "<table border=\"1\" class=\"dataframe\">\n",
       "  <thead>\n",
       "    <tr style=\"text-align: right;\">\n",
       "      <th></th>\n",
       "      <th>Transaction_ID</th>\n",
       "      <th>Date_of_Travel</th>\n",
       "      <th>Company</th>\n",
       "      <th>City</th>\n",
       "      <th>KM_Travelled</th>\n",
       "      <th>Price_Charged</th>\n",
       "      <th>Cost_of_Trip</th>\n",
       "      <th>Customer_ID</th>\n",
       "      <th>Payment_Mode</th>\n",
       "      <th>Gender</th>\n",
       "      <th>Age</th>\n",
       "      <th>Income_(USD/Month)</th>\n",
       "      <th>Population</th>\n",
       "      <th>Users</th>\n",
       "    </tr>\n",
       "  </thead>\n",
       "  <tbody>\n",
       "    <tr>\n",
       "      <th>0</th>\n",
       "      <td>10000011</td>\n",
       "      <td>January 08, 2016</td>\n",
       "      <td>Pink Cab</td>\n",
       "      <td>ATLANTA GA</td>\n",
       "      <td>30.45</td>\n",
       "      <td>370.95</td>\n",
       "      <td>313.6350</td>\n",
       "      <td>29290</td>\n",
       "      <td>Card</td>\n",
       "      <td>Male</td>\n",
       "      <td>28</td>\n",
       "      <td>10813.0</td>\n",
       "      <td>814885</td>\n",
       "      <td>24701</td>\n",
       "    </tr>\n",
       "    <tr>\n",
       "      <th>1</th>\n",
       "      <td>10351127</td>\n",
       "      <td>July 21, 2018</td>\n",
       "      <td>Yellow Cab</td>\n",
       "      <td>ATLANTA GA</td>\n",
       "      <td>26.19</td>\n",
       "      <td>598.70</td>\n",
       "      <td>317.4228</td>\n",
       "      <td>29290</td>\n",
       "      <td>Cash</td>\n",
       "      <td>Male</td>\n",
       "      <td>28</td>\n",
       "      <td>10813.0</td>\n",
       "      <td>814885</td>\n",
       "      <td>24701</td>\n",
       "    </tr>\n",
       "    <tr>\n",
       "      <th>2</th>\n",
       "      <td>10412921</td>\n",
       "      <td>November 23, 2018</td>\n",
       "      <td>Yellow Cab</td>\n",
       "      <td>ATLANTA GA</td>\n",
       "      <td>42.55</td>\n",
       "      <td>792.05</td>\n",
       "      <td>597.4020</td>\n",
       "      <td>29290</td>\n",
       "      <td>Card</td>\n",
       "      <td>Male</td>\n",
       "      <td>28</td>\n",
       "      <td>10813.0</td>\n",
       "      <td>814885</td>\n",
       "      <td>24701</td>\n",
       "    </tr>\n",
       "    <tr>\n",
       "      <th>3</th>\n",
       "      <td>10000012</td>\n",
       "      <td>January 06, 2016</td>\n",
       "      <td>Pink Cab</td>\n",
       "      <td>ATLANTA GA</td>\n",
       "      <td>28.62</td>\n",
       "      <td>358.52</td>\n",
       "      <td>334.8540</td>\n",
       "      <td>27703</td>\n",
       "      <td>Card</td>\n",
       "      <td>Male</td>\n",
       "      <td>27</td>\n",
       "      <td>9237.0</td>\n",
       "      <td>814885</td>\n",
       "      <td>24701</td>\n",
       "    </tr>\n",
       "    <tr>\n",
       "      <th>4</th>\n",
       "      <td>10320494</td>\n",
       "      <td>April 21, 2018</td>\n",
       "      <td>Yellow Cab</td>\n",
       "      <td>ATLANTA GA</td>\n",
       "      <td>36.38</td>\n",
       "      <td>721.10</td>\n",
       "      <td>467.1192</td>\n",
       "      <td>27703</td>\n",
       "      <td>Card</td>\n",
       "      <td>Male</td>\n",
       "      <td>27</td>\n",
       "      <td>9237.0</td>\n",
       "      <td>814885</td>\n",
       "      <td>24701</td>\n",
       "    </tr>\n",
       "    <tr>\n",
       "      <th>...</th>\n",
       "      <td>...</td>\n",
       "      <td>...</td>\n",
       "      <td>...</td>\n",
       "      <td>...</td>\n",
       "      <td>...</td>\n",
       "      <td>...</td>\n",
       "      <td>...</td>\n",
       "      <td>...</td>\n",
       "      <td>...</td>\n",
       "      <td>...</td>\n",
       "      <td>...</td>\n",
       "      <td>...</td>\n",
       "      <td>...</td>\n",
       "      <td>...</td>\n",
       "    </tr>\n",
       "    <tr>\n",
       "      <th>359387</th>\n",
       "      <td>10307228</td>\n",
       "      <td>March 03, 2018</td>\n",
       "      <td>Yellow Cab</td>\n",
       "      <td>WASHINGTON DC</td>\n",
       "      <td>38.40</td>\n",
       "      <td>668.93</td>\n",
       "      <td>525.3120</td>\n",
       "      <td>51406</td>\n",
       "      <td>Cash</td>\n",
       "      <td>Female</td>\n",
       "      <td>29</td>\n",
       "      <td>6829.0</td>\n",
       "      <td>418859</td>\n",
       "      <td>127001</td>\n",
       "    </tr>\n",
       "    <tr>\n",
       "      <th>359388</th>\n",
       "      <td>10319775</td>\n",
       "      <td>April 13, 2018</td>\n",
       "      <td>Yellow Cab</td>\n",
       "      <td>WASHINGTON DC</td>\n",
       "      <td>3.57</td>\n",
       "      <td>67.60</td>\n",
       "      <td>44.5536</td>\n",
       "      <td>51406</td>\n",
       "      <td>Cash</td>\n",
       "      <td>Female</td>\n",
       "      <td>29</td>\n",
       "      <td>6829.0</td>\n",
       "      <td>418859</td>\n",
       "      <td>127001</td>\n",
       "    </tr>\n",
       "    <tr>\n",
       "      <th>359389</th>\n",
       "      <td>10347676</td>\n",
       "      <td>July 06, 2018</td>\n",
       "      <td>Yellow Cab</td>\n",
       "      <td>WASHINGTON DC</td>\n",
       "      <td>23.46</td>\n",
       "      <td>331.97</td>\n",
       "      <td>337.8240</td>\n",
       "      <td>51406</td>\n",
       "      <td>Card</td>\n",
       "      <td>Female</td>\n",
       "      <td>29</td>\n",
       "      <td>6829.0</td>\n",
       "      <td>418859</td>\n",
       "      <td>127001</td>\n",
       "    </tr>\n",
       "    <tr>\n",
       "      <th>359390</th>\n",
       "      <td>10358624</td>\n",
       "      <td>August 02, 2018</td>\n",
       "      <td>Yellow Cab</td>\n",
       "      <td>WASHINGTON DC</td>\n",
       "      <td>27.60</td>\n",
       "      <td>358.23</td>\n",
       "      <td>364.3200</td>\n",
       "      <td>51406</td>\n",
       "      <td>Cash</td>\n",
       "      <td>Female</td>\n",
       "      <td>29</td>\n",
       "      <td>6829.0</td>\n",
       "      <td>418859</td>\n",
       "      <td>127001</td>\n",
       "    </tr>\n",
       "    <tr>\n",
       "      <th>359391</th>\n",
       "      <td>10370709</td>\n",
       "      <td>August 30, 2018</td>\n",
       "      <td>Yellow Cab</td>\n",
       "      <td>WASHINGTON DC</td>\n",
       "      <td>34.24</td>\n",
       "      <td>453.11</td>\n",
       "      <td>427.3152</td>\n",
       "      <td>51406</td>\n",
       "      <td>Card</td>\n",
       "      <td>Female</td>\n",
       "      <td>29</td>\n",
       "      <td>6829.0</td>\n",
       "      <td>418859</td>\n",
       "      <td>127001</td>\n",
       "    </tr>\n",
       "  </tbody>\n",
       "</table>\n",
       "<p>359392 rows × 14 columns</p>\n",
       "</div>"
      ],
      "text/plain": [
       "       Transaction_ID     Date_of_Travel     Company           City  \\\n",
       "0            10000011   January 08, 2016    Pink Cab     ATLANTA GA   \n",
       "1            10351127      July 21, 2018  Yellow Cab     ATLANTA GA   \n",
       "2            10412921  November 23, 2018  Yellow Cab     ATLANTA GA   \n",
       "3            10000012   January 06, 2016    Pink Cab     ATLANTA GA   \n",
       "4            10320494     April 21, 2018  Yellow Cab     ATLANTA GA   \n",
       "...               ...                ...         ...            ...   \n",
       "359387       10307228     March 03, 2018  Yellow Cab  WASHINGTON DC   \n",
       "359388       10319775     April 13, 2018  Yellow Cab  WASHINGTON DC   \n",
       "359389       10347676      July 06, 2018  Yellow Cab  WASHINGTON DC   \n",
       "359390       10358624    August 02, 2018  Yellow Cab  WASHINGTON DC   \n",
       "359391       10370709    August 30, 2018  Yellow Cab  WASHINGTON DC   \n",
       "\n",
       "        KM_Travelled  Price_Charged  Cost_of_Trip Customer_ID Payment_Mode  \\\n",
       "0              30.45         370.95      313.6350       29290         Card   \n",
       "1              26.19         598.70      317.4228       29290         Cash   \n",
       "2              42.55         792.05      597.4020       29290         Card   \n",
       "3              28.62         358.52      334.8540       27703         Card   \n",
       "4              36.38         721.10      467.1192       27703         Card   \n",
       "...              ...            ...           ...         ...          ...   \n",
       "359387         38.40         668.93      525.3120       51406         Cash   \n",
       "359388          3.57          67.60       44.5536       51406         Cash   \n",
       "359389         23.46         331.97      337.8240       51406         Card   \n",
       "359390         27.60         358.23      364.3200       51406         Cash   \n",
       "359391         34.24         453.11      427.3152       51406         Card   \n",
       "\n",
       "        Gender  Age  Income_(USD/Month)  Population   Users  \n",
       "0         Male   28             10813.0      814885   24701  \n",
       "1         Male   28             10813.0      814885   24701  \n",
       "2         Male   28             10813.0      814885   24701  \n",
       "3         Male   27              9237.0      814885   24701  \n",
       "4         Male   27              9237.0      814885   24701  \n",
       "...        ...  ...                 ...         ...     ...  \n",
       "359387  Female   29              6829.0      418859  127001  \n",
       "359388  Female   29              6829.0      418859  127001  \n",
       "359389  Female   29              6829.0      418859  127001  \n",
       "359390  Female   29              6829.0      418859  127001  \n",
       "359391  Female   29              6829.0      418859  127001  \n",
       "\n",
       "[359392 rows x 14 columns]"
      ]
     },
     "execution_count": 40,
     "metadata": {},
     "output_type": "execute_result"
    }
   ],
   "source": [
    "dataset = pd.merge(dataset, city_df, how = 'inner', on = 'City')\n",
    "dataset"
   ]
  },
  {
   "cell_type": "markdown",
   "id": "13693ac8",
   "metadata": {},
   "source": [
    "In the  code cell above I have created the master list and now I will examine the relationships between the attributes."
   ]
  },
  {
   "cell_type": "markdown",
   "id": "9f1bb2d9",
   "metadata": {},
   "source": [
    "#### Descriptive Summary\n",
    "\n",
    "Now I will find the descriptive statistics for the dataset and see what insights I can glean from the said statistics."
   ]
  },
  {
   "cell_type": "code",
   "execution_count": 41,
   "id": "e7e860fc",
   "metadata": {},
   "outputs": [
    {
     "data": {
      "text/html": [
       "<div>\n",
       "<style scoped>\n",
       "    .dataframe tbody tr th:only-of-type {\n",
       "        vertical-align: middle;\n",
       "    }\n",
       "\n",
       "    .dataframe tbody tr th {\n",
       "        vertical-align: top;\n",
       "    }\n",
       "\n",
       "    .dataframe thead th {\n",
       "        text-align: right;\n",
       "    }\n",
       "</style>\n",
       "<table border=\"1\" class=\"dataframe\">\n",
       "  <thead>\n",
       "    <tr style=\"text-align: right;\">\n",
       "      <th></th>\n",
       "      <th>Transaction_ID</th>\n",
       "      <th>Date_of_Travel</th>\n",
       "      <th>Company</th>\n",
       "      <th>City</th>\n",
       "      <th>KM_Travelled</th>\n",
       "      <th>Price_Charged</th>\n",
       "      <th>Cost_of_Trip</th>\n",
       "      <th>Customer_ID</th>\n",
       "      <th>Payment_Mode</th>\n",
       "      <th>Gender</th>\n",
       "      <th>Age</th>\n",
       "      <th>Income_(USD/Month)</th>\n",
       "      <th>Population</th>\n",
       "      <th>Users</th>\n",
       "    </tr>\n",
       "  </thead>\n",
       "  <tbody>\n",
       "    <tr>\n",
       "      <th>count</th>\n",
       "      <td>359392</td>\n",
       "      <td>359392</td>\n",
       "      <td>359392</td>\n",
       "      <td>359392</td>\n",
       "      <td>359392.000000</td>\n",
       "      <td>359392.000000</td>\n",
       "      <td>359392.000000</td>\n",
       "      <td>359392</td>\n",
       "      <td>359392</td>\n",
       "      <td>359392</td>\n",
       "      <td>359392.000000</td>\n",
       "      <td>359392.000000</td>\n",
       "      <td>3.593920e+05</td>\n",
       "      <td>359392.000000</td>\n",
       "    </tr>\n",
       "    <tr>\n",
       "      <th>unique</th>\n",
       "      <td>359392</td>\n",
       "      <td>1095</td>\n",
       "      <td>2</td>\n",
       "      <td>19</td>\n",
       "      <td>NaN</td>\n",
       "      <td>NaN</td>\n",
       "      <td>NaN</td>\n",
       "      <td>46148</td>\n",
       "      <td>2</td>\n",
       "      <td>2</td>\n",
       "      <td>NaN</td>\n",
       "      <td>NaN</td>\n",
       "      <td>NaN</td>\n",
       "      <td>NaN</td>\n",
       "    </tr>\n",
       "    <tr>\n",
       "      <th>top</th>\n",
       "      <td>10427118</td>\n",
       "      <td>January 05, 2018</td>\n",
       "      <td>Yellow Cab</td>\n",
       "      <td>NEW YORK NY</td>\n",
       "      <td>NaN</td>\n",
       "      <td>NaN</td>\n",
       "      <td>NaN</td>\n",
       "      <td>494</td>\n",
       "      <td>Card</td>\n",
       "      <td>Male</td>\n",
       "      <td>NaN</td>\n",
       "      <td>NaN</td>\n",
       "      <td>NaN</td>\n",
       "      <td>NaN</td>\n",
       "    </tr>\n",
       "    <tr>\n",
       "      <th>freq</th>\n",
       "      <td>1</td>\n",
       "      <td>2022</td>\n",
       "      <td>274681</td>\n",
       "      <td>99885</td>\n",
       "      <td>NaN</td>\n",
       "      <td>NaN</td>\n",
       "      <td>NaN</td>\n",
       "      <td>54</td>\n",
       "      <td>215504</td>\n",
       "      <td>205912</td>\n",
       "      <td>NaN</td>\n",
       "      <td>NaN</td>\n",
       "      <td>NaN</td>\n",
       "      <td>NaN</td>\n",
       "    </tr>\n",
       "    <tr>\n",
       "      <th>mean</th>\n",
       "      <td>NaN</td>\n",
       "      <td>NaN</td>\n",
       "      <td>NaN</td>\n",
       "      <td>NaN</td>\n",
       "      <td>22.567254</td>\n",
       "      <td>423.443311</td>\n",
       "      <td>286.190113</td>\n",
       "      <td>NaN</td>\n",
       "      <td>NaN</td>\n",
       "      <td>NaN</td>\n",
       "      <td>35.336705</td>\n",
       "      <td>15048.822937</td>\n",
       "      <td>3.132198e+06</td>\n",
       "      <td>158365.582267</td>\n",
       "    </tr>\n",
       "    <tr>\n",
       "      <th>std</th>\n",
       "      <td>NaN</td>\n",
       "      <td>NaN</td>\n",
       "      <td>NaN</td>\n",
       "      <td>NaN</td>\n",
       "      <td>12.233526</td>\n",
       "      <td>274.378911</td>\n",
       "      <td>157.993661</td>\n",
       "      <td>NaN</td>\n",
       "      <td>NaN</td>\n",
       "      <td>NaN</td>\n",
       "      <td>12.594234</td>\n",
       "      <td>7969.409482</td>\n",
       "      <td>3.315194e+06</td>\n",
       "      <td>100850.051020</td>\n",
       "    </tr>\n",
       "    <tr>\n",
       "      <th>min</th>\n",
       "      <td>NaN</td>\n",
       "      <td>NaN</td>\n",
       "      <td>NaN</td>\n",
       "      <td>NaN</td>\n",
       "      <td>1.900000</td>\n",
       "      <td>15.600000</td>\n",
       "      <td>19.000000</td>\n",
       "      <td>NaN</td>\n",
       "      <td>NaN</td>\n",
       "      <td>NaN</td>\n",
       "      <td>18.000000</td>\n",
       "      <td>2000.000000</td>\n",
       "      <td>2.489680e+05</td>\n",
       "      <td>3643.000000</td>\n",
       "    </tr>\n",
       "    <tr>\n",
       "      <th>25%</th>\n",
       "      <td>NaN</td>\n",
       "      <td>NaN</td>\n",
       "      <td>NaN</td>\n",
       "      <td>NaN</td>\n",
       "      <td>12.000000</td>\n",
       "      <td>206.437500</td>\n",
       "      <td>151.200000</td>\n",
       "      <td>NaN</td>\n",
       "      <td>NaN</td>\n",
       "      <td>NaN</td>\n",
       "      <td>25.000000</td>\n",
       "      <td>8424.000000</td>\n",
       "      <td>6.712380e+05</td>\n",
       "      <td>80021.000000</td>\n",
       "    </tr>\n",
       "    <tr>\n",
       "      <th>50%</th>\n",
       "      <td>NaN</td>\n",
       "      <td>NaN</td>\n",
       "      <td>NaN</td>\n",
       "      <td>NaN</td>\n",
       "      <td>22.440000</td>\n",
       "      <td>386.360000</td>\n",
       "      <td>282.480000</td>\n",
       "      <td>NaN</td>\n",
       "      <td>NaN</td>\n",
       "      <td>NaN</td>\n",
       "      <td>33.000000</td>\n",
       "      <td>14685.000000</td>\n",
       "      <td>1.595037e+06</td>\n",
       "      <td>144132.000000</td>\n",
       "    </tr>\n",
       "    <tr>\n",
       "      <th>75%</th>\n",
       "      <td>NaN</td>\n",
       "      <td>NaN</td>\n",
       "      <td>NaN</td>\n",
       "      <td>NaN</td>\n",
       "      <td>32.960000</td>\n",
       "      <td>583.660000</td>\n",
       "      <td>413.683200</td>\n",
       "      <td>NaN</td>\n",
       "      <td>NaN</td>\n",
       "      <td>NaN</td>\n",
       "      <td>42.000000</td>\n",
       "      <td>21035.000000</td>\n",
       "      <td>8.405837e+06</td>\n",
       "      <td>302149.000000</td>\n",
       "    </tr>\n",
       "    <tr>\n",
       "      <th>max</th>\n",
       "      <td>NaN</td>\n",
       "      <td>NaN</td>\n",
       "      <td>NaN</td>\n",
       "      <td>NaN</td>\n",
       "      <td>48.000000</td>\n",
       "      <td>2048.030000</td>\n",
       "      <td>691.200000</td>\n",
       "      <td>NaN</td>\n",
       "      <td>NaN</td>\n",
       "      <td>NaN</td>\n",
       "      <td>65.000000</td>\n",
       "      <td>35000.000000</td>\n",
       "      <td>8.405837e+06</td>\n",
       "      <td>302149.000000</td>\n",
       "    </tr>\n",
       "  </tbody>\n",
       "</table>\n",
       "</div>"
      ],
      "text/plain": [
       "       Transaction_ID    Date_of_Travel     Company         City  \\\n",
       "count          359392            359392      359392       359392   \n",
       "unique         359392              1095           2           19   \n",
       "top          10427118  January 05, 2018  Yellow Cab  NEW YORK NY   \n",
       "freq                1              2022      274681        99885   \n",
       "mean              NaN               NaN         NaN          NaN   \n",
       "std               NaN               NaN         NaN          NaN   \n",
       "min               NaN               NaN         NaN          NaN   \n",
       "25%               NaN               NaN         NaN          NaN   \n",
       "50%               NaN               NaN         NaN          NaN   \n",
       "75%               NaN               NaN         NaN          NaN   \n",
       "max               NaN               NaN         NaN          NaN   \n",
       "\n",
       "         KM_Travelled  Price_Charged   Cost_of_Trip Customer_ID Payment_Mode  \\\n",
       "count   359392.000000  359392.000000  359392.000000      359392       359392   \n",
       "unique            NaN            NaN            NaN       46148            2   \n",
       "top               NaN            NaN            NaN         494         Card   \n",
       "freq              NaN            NaN            NaN          54       215504   \n",
       "mean        22.567254     423.443311     286.190113         NaN          NaN   \n",
       "std         12.233526     274.378911     157.993661         NaN          NaN   \n",
       "min          1.900000      15.600000      19.000000         NaN          NaN   \n",
       "25%         12.000000     206.437500     151.200000         NaN          NaN   \n",
       "50%         22.440000     386.360000     282.480000         NaN          NaN   \n",
       "75%         32.960000     583.660000     413.683200         NaN          NaN   \n",
       "max         48.000000    2048.030000     691.200000         NaN          NaN   \n",
       "\n",
       "        Gender            Age  Income_(USD/Month)    Population          Users  \n",
       "count   359392  359392.000000       359392.000000  3.593920e+05  359392.000000  \n",
       "unique       2            NaN                 NaN           NaN            NaN  \n",
       "top       Male            NaN                 NaN           NaN            NaN  \n",
       "freq    205912            NaN                 NaN           NaN            NaN  \n",
       "mean       NaN      35.336705        15048.822937  3.132198e+06  158365.582267  \n",
       "std        NaN      12.594234         7969.409482  3.315194e+06  100850.051020  \n",
       "min        NaN      18.000000         2000.000000  2.489680e+05    3643.000000  \n",
       "25%        NaN      25.000000         8424.000000  6.712380e+05   80021.000000  \n",
       "50%        NaN      33.000000        14685.000000  1.595037e+06  144132.000000  \n",
       "75%        NaN      42.000000        21035.000000  8.405837e+06  302149.000000  \n",
       "max        NaN      65.000000        35000.000000  8.405837e+06  302149.000000  "
      ]
     },
     "execution_count": 41,
     "metadata": {},
     "output_type": "execute_result"
    }
   ],
   "source": [
    "dataset.describe(include = 'all')"
   ]
  },
  {
   "cell_type": "markdown",
   "id": "4a0bdc76",
   "metadata": {},
   "source": [
    "From the table above the following can be seen: \n",
    "1. The most travelled date is January 05,2018\n",
    "2. Yellow Cab has the highest frequency of the two cabs\n",
    "3. New York is the most popular city\n",
    "4. Males use cab more than females \n",
    "5. Customer with ID 54 is the most frequent user\n",
    "6. Most common payment mode is by card"
   ]
  },
  {
   "cell_type": "markdown",
   "id": "46eb7597",
   "metadata": {},
   "source": [
    "#### Univariate Plots"
   ]
  },
  {
   "cell_type": "code",
   "execution_count": 42,
   "id": "027b65a4",
   "metadata": {},
   "outputs": [
    {
     "data": {
      "text/plain": [
       "<AxesSubplot:xlabel='Company', ylabel='count'>"
      ]
     },
     "execution_count": 42,
     "metadata": {},
     "output_type": "execute_result"
    },
    {
     "data": {
      "image/png": "[encoded data removed]",
      "text/plain": [
       "<Figure size 432x288 with 1 Axes>"
      ]
     },
     "metadata": {
      "needs_background": "light"
     },
     "output_type": "display_data"
    }
   ],
   "source": [
    "sns.countplot(x = 'Company', data = dataset)"
   ]
  },
  {
   "cell_type": "markdown",
   "id": "7739d339",
   "metadata": {},
   "source": [
    "> From the graph above it is evident that Yellow cab has more users."
   ]
  },
  {
   "cell_type": "code",
   "execution_count": 43,
   "id": "eae2a424",
   "metadata": {},
   "outputs": [
    {
     "data": {
      "image/png": "[encoded data removed]",
      "text/plain": [
       "<Figure size 432x288 with 1 Axes>"
      ]
     },
     "metadata": {
      "needs_background": "light"
     },
     "output_type": "display_data"
    }
   ],
   "source": [
    "barplot = sns.countplot(x = 'City', data = dataset)\n",
    "plt.xticks(rotation = 90)\n",
    "plt.show()"
   ]
  },
  {
   "cell_type": "markdown",
   "id": "ef02bd17",
   "metadata": {},
   "source": [
    "> From the graph above it is evident that New York City has the highest amount of users."
   ]
  },
  {
   "cell_type": "code",
   "execution_count": 44,
   "id": "b78918cd",
   "metadata": {},
   "outputs": [
    {
     "data": {
      "text/plain": [
       "<AxesSubplot:xlabel='Gender', ylabel='count'>"
      ]
     },
     "execution_count": 44,
     "metadata": {},
     "output_type": "execute_result"
    },
    {
     "data": {
      "image/png": "[encoded data removed]",
      "text/plain": [
       "<Figure size 432x288 with 1 Axes>"
      ]
     },
     "metadata": {
      "needs_background": "light"
     },
     "output_type": "display_data"
    }
   ],
   "source": [
    "sns.countplot(x = 'Gender', data = dataset)"
   ]
  },
  {
   "cell_type": "markdown",
   "id": "e627a94c",
   "metadata": {},
   "source": [
    "> From the graph above it is evident that males use cab companies more than females."
   ]
  },
  {
   "cell_type": "code",
   "execution_count": 45,
   "id": "41b8bc64",
   "metadata": {},
   "outputs": [
    {
     "data": {
      "text/plain": [
       "<AxesSubplot:xlabel='Payment_Mode', ylabel='count'>"
      ]
     },
     "execution_count": 45,
     "metadata": {},
     "output_type": "execute_result"
    },
    {
     "data": {
      "image/png": "[encoded data removed]",
      "text/plain": [
       "<Figure size 432x288 with 1 Axes>"
      ]
     },
     "metadata": {
      "needs_background": "light"
     },
     "output_type": "display_data"
    }
   ],
   "source": [
    "sns.countplot(x = 'Payment_Mode', data = dataset)"
   ]
  },
  {
   "cell_type": "markdown",
   "id": "f0e07639",
   "metadata": {},
   "source": [
    "> From the graph above it is evident that card is the preferred method of payment."
   ]
  },
  {
   "cell_type": "code",
   "execution_count": 46,
   "id": "fb6c2b41",
   "metadata": {},
   "outputs": [
    {
     "name": "stderr",
     "output_type": "stream",
     "text": [
      "C:\\Users\\peter\\anaconda3\\lib\\site-packages\\seaborn\\distributions.py:2557: FutureWarning: `distplot` is a deprecated function and will be removed in a future version. Please adapt your code to use either `displot` (a figure-level function with similar flexibility) or `histplot` (an axes-level function for histograms).\n",
      "  warnings.warn(msg, FutureWarning)\n"
     ]
    },
    {
     "data": {
      "text/plain": [
       "<AxesSubplot:xlabel='Age', ylabel='Density'>"
      ]
     },
     "execution_count": 46,
     "metadata": {},
     "output_type": "execute_result"
    },
    {
     "data": {
      "image/png": "[encoded data removed]",
      "text/plain": [
       "<Figure size 432x288 with 1 Axes>"
      ]
     },
     "metadata": {
      "needs_background": "light"
     },
     "output_type": "display_data"
    }
   ],
   "source": [
    "sns.distplot(dataset['Age'])"
   ]
  },
  {
   "cell_type": "markdown",
   "id": "0cf1a6a4",
   "metadata": {},
   "source": [
    "> From the graph above it is evident that users are of a wide variety (All Ages)."
   ]
  },
  {
   "cell_type": "code",
   "execution_count": 47,
   "id": "531210cc",
   "metadata": {},
   "outputs": [
    {
     "name": "stderr",
     "output_type": "stream",
     "text": [
      "C:\\Users\\peter\\anaconda3\\lib\\site-packages\\seaborn\\distributions.py:2557: FutureWarning: `distplot` is a deprecated function and will be removed in a future version. Please adapt your code to use either `displot` (a figure-level function with similar flexibility) or `histplot` (an axes-level function for histograms).\n",
      "  warnings.warn(msg, FutureWarning)\n"
     ]
    },
    {
     "data": {
      "text/plain": [
       "<AxesSubplot:xlabel='KM_Travelled', ylabel='Density'>"
      ]
     },
     "execution_count": 47,
     "metadata": {},
     "output_type": "execute_result"
    },
    {
     "data": {
      "image/png": "[encoded data removed]",
      "text/plain": [
       "<Figure size 432x288 with 1 Axes>"
      ]
     },
     "metadata": {
      "needs_background": "light"
     },
     "output_type": "display_data"
    }
   ],
   "source": [
    "sns.distplot(dataset['KM_Travelled'])"
   ]
  },
  {
   "cell_type": "markdown",
   "id": "f3015900",
   "metadata": {},
   "source": [
    "> From the graph above it is evident that the KM Travelled density is widely spread from around 2km to 49km."
   ]
  },
  {
   "cell_type": "code",
   "execution_count": 48,
   "id": "c96cf3de",
   "metadata": {
    "scrolled": true
   },
   "outputs": [
    {
     "name": "stderr",
     "output_type": "stream",
     "text": [
      "C:\\Users\\peter\\anaconda3\\lib\\site-packages\\seaborn\\distributions.py:2557: FutureWarning: `distplot` is a deprecated function and will be removed in a future version. Please adapt your code to use either `displot` (a figure-level function with similar flexibility) or `histplot` (an axes-level function for histograms).\n",
      "  warnings.warn(msg, FutureWarning)\n"
     ]
    },
    {
     "data": {
      "text/plain": [
       "<AxesSubplot:xlabel='Price_Charged', ylabel='Density'>"
      ]
     },
     "execution_count": 48,
     "metadata": {},
     "output_type": "execute_result"
    },
    {
     "data": {
      "image/png": "[encoded data removed]",
      "text/plain": [
       "<Figure size 432x288 with 1 Axes>"
      ]
     },
     "metadata": {
      "needs_background": "light"
     },
     "output_type": "display_data"
    }
   ],
   "source": [
    "sns.distplot(dataset['Price_Charged'])"
   ]
  },
  {
   "cell_type": "markdown",
   "id": "ab2b6d2e",
   "metadata": {},
   "source": [
    "> From the graph above it is evident that Price charged majority is in the range of 2 dollars to roughly around 800 dollars."
   ]
  },
  {
   "cell_type": "code",
   "execution_count": 49,
   "id": "4d2ff53b",
   "metadata": {},
   "outputs": [
    {
     "name": "stderr",
     "output_type": "stream",
     "text": [
      "C:\\Users\\peter\\anaconda3\\lib\\site-packages\\seaborn\\distributions.py:2557: FutureWarning: `distplot` is a deprecated function and will be removed in a future version. Please adapt your code to use either `displot` (a figure-level function with similar flexibility) or `histplot` (an axes-level function for histograms).\n",
      "  warnings.warn(msg, FutureWarning)\n"
     ]
    },
    {
     "data": {
      "text/plain": [
       "<AxesSubplot:xlabel='Cost_of_Trip', ylabel='Density'>"
      ]
     },
     "execution_count": 49,
     "metadata": {},
     "output_type": "execute_result"
    },
    {
     "data": {
      "image/png": "[encoded data removed]",
      "text/plain": [
       "<Figure size 432x288 with 1 Axes>"
      ]
     },
     "metadata": {
      "needs_background": "light"
     },
     "output_type": "display_data"
    }
   ],
   "source": [
    "sns.distplot(dataset['Cost_of_Trip'])"
   ]
  },
  {
   "cell_type": "markdown",
   "id": "cb3f388a",
   "metadata": {},
   "source": [
    "> From the graph above it is evident that the Cost of Trip is spread from 2 to 600 dollars."
   ]
  },
  {
   "cell_type": "code",
   "execution_count": 50,
   "id": "65a91114",
   "metadata": {
    "scrolled": true
   },
   "outputs": [
    {
     "name": "stderr",
     "output_type": "stream",
     "text": [
      "C:\\Users\\peter\\anaconda3\\lib\\site-packages\\seaborn\\distributions.py:2557: FutureWarning: `distplot` is a deprecated function and will be removed in a future version. Please adapt your code to use either `displot` (a figure-level function with similar flexibility) or `histplot` (an axes-level function for histograms).\n",
      "  warnings.warn(msg, FutureWarning)\n"
     ]
    },
    {
     "data": {
      "text/plain": [
       "<AxesSubplot:xlabel='Income_(USD/Month)', ylabel='Density'>"
      ]
     },
     "execution_count": 50,
     "metadata": {},
     "output_type": "execute_result"
    },
    {
     "data": {
      "image/png": "[encoded data removed]",
      "text/plain": [
       "<Figure size 432x288 with 1 Axes>"
      ]
     },
     "metadata": {
      "needs_background": "light"
     },
     "output_type": "display_data"
    }
   ],
   "source": [
    "sns.distplot(dataset['Income_(USD/Month)'])"
   ]
  },
  {
   "cell_type": "markdown",
   "id": "7802aa2b",
   "metadata": {},
   "source": [
    "> From the graph above it is evident that the income of the customers are mainly between the income bracket of around 200 to 24000."
   ]
  },
  {
   "cell_type": "code",
   "execution_count": 51,
   "id": "0890b7cc",
   "metadata": {
    "scrolled": true
   },
   "outputs": [
    {
     "data": {
      "text/plain": [
       "<AxesSubplot:>"
      ]
     },
     "execution_count": 51,
     "metadata": {},
     "output_type": "execute_result"
    },
    {
     "data": {
      "image/png": "[encoded data removed]",
      "text/plain": [
       "<Figure size 432x288 with 1 Axes>"
      ]
     },
     "metadata": {
      "needs_background": "light"
     },
     "output_type": "display_data"
    }
   ],
   "source": [
    "sns.boxplot(data = dataset[['Price_Charged','Cost_of_Trip']], palette = \"rainbow\", orient = 'h')"
   ]
  },
  {
   "cell_type": "code",
   "execution_count": 52,
   "id": "fd251ba8",
   "metadata": {
    "scrolled": true
   },
   "outputs": [
    {
     "data": {
      "text/plain": [
       "<AxesSubplot:>"
      ]
     },
     "execution_count": 52,
     "metadata": {},
     "output_type": "execute_result"
    },
    {
     "data": {
      "image/png": "[encoded data removed]",
      "text/plain": [
       "<Figure size 432x288 with 1 Axes>"
      ]
     },
     "metadata": {
      "needs_background": "light"
     },
     "output_type": "display_data"
    }
   ],
   "source": [
    "sns.boxplot(data = dataset[['KM_Travelled']], palette = \"rainbow\", orient = 'h')"
   ]
  },
  {
   "cell_type": "code",
   "execution_count": 53,
   "id": "8b7080b7",
   "metadata": {
    "scrolled": false
   },
   "outputs": [
    {
     "data": {
      "text/plain": [
       "<AxesSubplot:>"
      ]
     },
     "execution_count": 53,
     "metadata": {},
     "output_type": "execute_result"
    },
    {
     "data": {
      "image/png": "[encoded data removed]",
      "text/plain": [
       "<Figure size 432x288 with 1 Axes>"
      ]
     },
     "metadata": {
      "needs_background": "light"
     },
     "output_type": "display_data"
    }
   ],
   "source": [
    "sns.boxplot(data = dataset[['Income_(USD/Month)']], palette = \"rainbow\", orient = 'h')"
   ]
  },
  {
   "cell_type": "code",
   "execution_count": 54,
   "id": "fb480bf1",
   "metadata": {
    "scrolled": true
   },
   "outputs": [
    {
     "data": {
      "text/plain": [
       "<AxesSubplot:>"
      ]
     },
     "execution_count": 54,
     "metadata": {},
     "output_type": "execute_result"
    },
    {
     "data": {
      "image/png": "[encoded data removed]",
      "text/plain": [
       "<Figure size 432x288 with 1 Axes>"
      ]
     },
     "metadata": {
      "needs_background": "light"
     },
     "output_type": "display_data"
    }
   ],
   "source": [
    "sns.boxplot(data = dataset[['Age']], palette = \"rainbow\", orient = 'h')"
   ]
  },
  {
   "cell_type": "markdown",
   "id": "54f0e3a7",
   "metadata": {},
   "source": [
    "From my investigation it was evident that only Price Charged has outliers. "
   ]
  },
  {
   "cell_type": "markdown",
   "id": "db984ab0",
   "metadata": {},
   "source": [
    "#### Multivariate/Bivariate Plots"
   ]
  },
  {
   "cell_type": "code",
   "execution_count": 55,
   "id": "56655dff",
   "metadata": {},
   "outputs": [
    {
     "data": {
      "text/html": [
       "<div>\n",
       "<style scoped>\n",
       "    .dataframe tbody tr th:only-of-type {\n",
       "        vertical-align: middle;\n",
       "    }\n",
       "\n",
       "    .dataframe tbody tr th {\n",
       "        vertical-align: top;\n",
       "    }\n",
       "\n",
       "    .dataframe thead th {\n",
       "        text-align: right;\n",
       "    }\n",
       "</style>\n",
       "<table border=\"1\" class=\"dataframe\">\n",
       "  <thead>\n",
       "    <tr style=\"text-align: right;\">\n",
       "      <th></th>\n",
       "      <th>KM_Travelled</th>\n",
       "      <th>Price_Charged</th>\n",
       "      <th>Cost_of_Trip</th>\n",
       "      <th>Age</th>\n",
       "      <th>Income_(USD/Month)</th>\n",
       "      <th>Population</th>\n",
       "      <th>Users</th>\n",
       "    </tr>\n",
       "  </thead>\n",
       "  <tbody>\n",
       "    <tr>\n",
       "      <th>KM_Travelled</th>\n",
       "      <td>1.000000</td>\n",
       "      <td>0.835753</td>\n",
       "      <td>0.981848</td>\n",
       "      <td>-0.000369</td>\n",
       "      <td>-0.000544</td>\n",
       "      <td>-0.002311</td>\n",
       "      <td>-0.000428</td>\n",
       "    </tr>\n",
       "    <tr>\n",
       "      <th>Price_Charged</th>\n",
       "      <td>0.835753</td>\n",
       "      <td>1.000000</td>\n",
       "      <td>0.859812</td>\n",
       "      <td>-0.003084</td>\n",
       "      <td>0.003228</td>\n",
       "      <td>0.326589</td>\n",
       "      <td>0.281061</td>\n",
       "    </tr>\n",
       "    <tr>\n",
       "      <th>Cost_of_Trip</th>\n",
       "      <td>0.981848</td>\n",
       "      <td>0.859812</td>\n",
       "      <td>1.000000</td>\n",
       "      <td>-0.000189</td>\n",
       "      <td>-0.000633</td>\n",
       "      <td>0.015108</td>\n",
       "      <td>0.023628</td>\n",
       "    </tr>\n",
       "    <tr>\n",
       "      <th>Age</th>\n",
       "      <td>-0.000369</td>\n",
       "      <td>-0.003084</td>\n",
       "      <td>-0.000189</td>\n",
       "      <td>1.000000</td>\n",
       "      <td>0.003907</td>\n",
       "      <td>-0.009002</td>\n",
       "      <td>-0.005906</td>\n",
       "    </tr>\n",
       "    <tr>\n",
       "      <th>Income_(USD/Month)</th>\n",
       "      <td>-0.000544</td>\n",
       "      <td>0.003228</td>\n",
       "      <td>-0.000633</td>\n",
       "      <td>0.003907</td>\n",
       "      <td>1.000000</td>\n",
       "      <td>0.011868</td>\n",
       "      <td>0.010464</td>\n",
       "    </tr>\n",
       "    <tr>\n",
       "      <th>Population</th>\n",
       "      <td>-0.002311</td>\n",
       "      <td>0.326589</td>\n",
       "      <td>0.015108</td>\n",
       "      <td>-0.009002</td>\n",
       "      <td>0.011868</td>\n",
       "      <td>1.000000</td>\n",
       "      <td>0.915490</td>\n",
       "    </tr>\n",
       "    <tr>\n",
       "      <th>Users</th>\n",
       "      <td>-0.000428</td>\n",
       "      <td>0.281061</td>\n",
       "      <td>0.023628</td>\n",
       "      <td>-0.005906</td>\n",
       "      <td>0.010464</td>\n",
       "      <td>0.915490</td>\n",
       "      <td>1.000000</td>\n",
       "    </tr>\n",
       "  </tbody>\n",
       "</table>\n",
       "</div>"
      ],
      "text/plain": [
       "                    KM_Travelled  Price_Charged  Cost_of_Trip       Age  \\\n",
       "KM_Travelled            1.000000       0.835753      0.981848 -0.000369   \n",
       "Price_Charged           0.835753       1.000000      0.859812 -0.003084   \n",
       "Cost_of_Trip            0.981848       0.859812      1.000000 -0.000189   \n",
       "Age                    -0.000369      -0.003084     -0.000189  1.000000   \n",
       "Income_(USD/Month)     -0.000544       0.003228     -0.000633  0.003907   \n",
       "Population             -0.002311       0.326589      0.015108 -0.009002   \n",
       "Users                  -0.000428       0.281061      0.023628 -0.005906   \n",
       "\n",
       "                    Income_(USD/Month)  Population     Users  \n",
       "KM_Travelled                 -0.000544   -0.002311 -0.000428  \n",
       "Price_Charged                 0.003228    0.326589  0.281061  \n",
       "Cost_of_Trip                 -0.000633    0.015108  0.023628  \n",
       "Age                           0.003907   -0.009002 -0.005906  \n",
       "Income_(USD/Month)            1.000000    0.011868  0.010464  \n",
       "Population                    0.011868    1.000000  0.915490  \n",
       "Users                         0.010464    0.915490  1.000000  "
      ]
     },
     "execution_count": 55,
     "metadata": {},
     "output_type": "execute_result"
    }
   ],
   "source": [
    "dataset.corr()"
   ]
  },
  {
   "cell_type": "code",
   "execution_count": 56,
   "id": "bdf1d6e5",
   "metadata": {},
   "outputs": [
    {
     "data": {
      "text/plain": [
       "<AxesSubplot:>"
      ]
     },
     "execution_count": 56,
     "metadata": {},
     "output_type": "execute_result"
    },
    {
     "data": {
      "image/png": "[encoded data removed]",
      "text/plain": [
       "<Figure size 432x288 with 2 Axes>"
      ]
     },
     "metadata": {
      "needs_background": "light"
     },
     "output_type": "display_data"
    }
   ],
   "source": [
    "sns.heatmap(dataset.corr(), annot = True, vmin = -1, vmax =1, cmap = 'coolwarm', fmt = '.1g')"
   ]
  },
  {
   "cell_type": "markdown",
   "id": "2f0be5f8",
   "metadata": {},
   "source": [
    "The table and graph above show the correlation of the fields KM Travelled, Price Charged, Cost of Trip,\tAge, Income (USD/Month)\tPopulation and Users. There is a strongly postive correlation relationship between KM Travelled, Price Changed and Cost of Trip. Whilst there is little to no correlation between Income, Age, Population and Users. "
   ]
  },
  {
   "cell_type": "markdown",
   "id": "3b886a23",
   "metadata": {},
   "source": [
    "## Hypothesis Results"
   ]
  },
  {
   "cell_type": "markdown",
   "id": "8c981c5d",
   "metadata": {},
   "source": [
    "1. Yellow Cab has the most cab users on January 05, 2018.\n",
    "2. Yes, margin proportionally increase with th increase in number of customers.\n",
    "3. The attributes of the customer segments are Customer ID, Gender, Age and Income which are both user-defined numeric or discrete attributes.\n",
    "4. According to the statistic the mean age of users are 35 years old. \n",
    "5. There is a strongly postive correaltion between price charged and cost of trip"
   ]
  },
  {
   "cell_type": "markdown",
   "id": "f9b4df0a",
   "metadata": {},
   "source": [
    "## EDA Recommendation in support of investing in Yellow Cab Company "
   ]
  },
  {
   "cell_type": "markdown",
   "id": "045a7715",
   "metadata": {},
   "source": [
    "Based on the data analysis carried out here are the recommendation derived: \n",
    "\n",
    "1. Earnings - While the Pink cab is making profits on rides the Yellow cab is almost making three times as much.\n",
    "2. Customer - Based on the master data it shows that more customer ride with the Yellow cab on a constant basis. \n",
    "3. City - Yellow cab is doing great in the top city (New York) which has the highest population. \n",
    "\n",
    "Therefore, it is safe to recommend Yellow Cab to XYZ as the right cab company to invest in for their G2M strategy. "
   ]
  }
 ],
 "metadata": {
  "kernelspec": {
   "display_name": "Python 3",
   "language": "python",
   "name": "python3"
  },
  "language_info": {
   "codemirror_mode": {
    "name": "ipython",
    "version": 3
   },
   "file_extension": ".py",
   "mimetype": "text/x-python",
   "name": "python",
   "nbconvert_exporter": "python",
   "pygments_lexer": "ipython3",
   "version": "3.8.8"
  }
 },
 "nbformat": 4,
 "nbformat_minor": 5
}
